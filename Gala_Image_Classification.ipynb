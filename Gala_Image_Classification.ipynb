{
  "nbformat": 4,
  "nbformat_minor": 0,
  "metadata": {
    "colab": {
      "name": "Gala Image Classification.ipynb",
      "provenance": [],
      "collapsed_sections": [
        "f1eYCEOZleVS"
      ],
      "toc_visible": true
    },
    "kernelspec": {
      "name": "python3",
      "display_name": "Python 3"
    },
    "language_info": {
      "name": "python"
    }
  },
  "cells": [
    {
      "cell_type": "markdown",
      "metadata": {
        "id": "4xZCFxghA6Jv"
      },
      "source": [
        "# Data Loading and Preprocessing"
      ]
    },
    {
      "cell_type": "code",
      "metadata": {
        "id": "SsBjB22noLes"
      },
      "source": [
        "import pandas as pd\n",
        "import os\n",
        "import pickle\n",
        "from google.colab import files\n",
        "import numpy as np\n",
        "import sklearn\n",
        "from sklearn.decomposition import PCA\n",
        "import time\n",
        "from sklearn.linear_model import SGDClassifier\n",
        "from sklearn.ensemble import RandomForestClassifier, BaggingClassifier,AdaBoostClassifier, GradientBoostingClassifier, StackingClassifier, ExtraTreesClassifier\n",
        "from sklearn.tree import DecisionTreeClassifier\n",
        "import xgboost as xgb\n",
        "from sklearn.naive_bayes import GaussianNB\n",
        "import lightgbm as ltb\n",
        "from sklearn.neighbors import KNeighborsClassifier\n",
        "from sklearn.model_selection import train_test_split,GridSearchCV\n",
        "from sklearn.svm import SVC\n",
        "import matplotlib.pyplot as plt\n",
        "import glob\n",
        "from PIL import Image,ImageOps\n",
        "from skimage.transform import resize\n",
        "from skimage import color\n",
        "from skimage.io import imread\n",
        "from sklearn.metrics import accuracy_score,confusion_matrix"
      ],
      "execution_count": null,
      "outputs": []
    },
    {
      "cell_type": "code",
      "metadata": {
        "id": "TfeSj8e-qSNb"
      },
      "source": [
        "train_path = '/content/drive/MyDrive/Train_Images/'"
      ],
      "execution_count": null,
      "outputs": []
    },
    {
      "cell_type": "code",
      "metadata": {
        "colab": {
          "resources": {
            "http://localhost:8080/nbextensions/google.colab/files.js": {
              "data": "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",
              "ok": true,
              "headers": [
                [
                  "content-type",
                  "application/javascript"
                ]
              ],
              "status": 200,
              "status_text": ""
            }
          },
          "base_uri": "https://localhost:8080/",
          "height": 73
        },
        "id": "T-TXzkKZwcHT",
        "outputId": "5bc4d374-9e28-435e-8127-4f3853cbc7ab"
      },
      "source": [
        "train = files.upload()"
      ],
      "execution_count": null,
      "outputs": [
        {
          "output_type": "display_data",
          "data": {
            "text/html": [
              "\n",
              "     <input type=\"file\" id=\"files-9e78b69a-e063-4c68-a2ac-69de7339bda0\" name=\"files[]\" multiple disabled\n",
              "        style=\"border:none\" />\n",
              "     <output id=\"result-9e78b69a-e063-4c68-a2ac-69de7339bda0\">\n",
              "      Upload widget is only available when the cell has been executed in the\n",
              "      current browser session. Please rerun this cell to enable.\n",
              "      </output>\n",
              "      <script src=\"/nbextensions/google.colab/files.js\"></script> "
            ],
            "text/plain": [
              "<IPython.core.display.HTML object>"
            ]
          },
          "metadata": {
            "tags": []
          }
        },
        {
          "output_type": "stream",
          "text": [
            "Saving train.csv to train.csv\n"
          ],
          "name": "stdout"
        }
      ]
    },
    {
      "cell_type": "code",
      "metadata": {
        "colab": {
          "base_uri": "https://localhost:8080/",
          "height": 202
        },
        "id": "ABbmsSvOwucg",
        "outputId": "5f638d7c-297f-471c-c12f-31d949a6723a"
      },
      "source": [
        "df_train = pd.read_csv('train.csv')\n",
        "df_train.head()"
      ],
      "execution_count": null,
      "outputs": [
        {
          "output_type": "execute_result",
          "data": {
            "text/html": [
              "<div>\n",
              "<style scoped>\n",
              "    .dataframe tbody tr th:only-of-type {\n",
              "        vertical-align: middle;\n",
              "    }\n",
              "\n",
              "    .dataframe tbody tr th {\n",
              "        vertical-align: top;\n",
              "    }\n",
              "\n",
              "    .dataframe thead th {\n",
              "        text-align: right;\n",
              "    }\n",
              "</style>\n",
              "<table border=\"1\" class=\"dataframe\">\n",
              "  <thead>\n",
              "    <tr style=\"text-align: right;\">\n",
              "      <th></th>\n",
              "      <th>Image</th>\n",
              "      <th>Class</th>\n",
              "    </tr>\n",
              "  </thead>\n",
              "  <tbody>\n",
              "    <tr>\n",
              "      <th>0</th>\n",
              "      <td>image7042.jpg</td>\n",
              "      <td>Food</td>\n",
              "    </tr>\n",
              "    <tr>\n",
              "      <th>1</th>\n",
              "      <td>image3327.jpg</td>\n",
              "      <td>misc</td>\n",
              "    </tr>\n",
              "    <tr>\n",
              "      <th>2</th>\n",
              "      <td>image10335.jpg</td>\n",
              "      <td>Attire</td>\n",
              "    </tr>\n",
              "    <tr>\n",
              "      <th>3</th>\n",
              "      <td>image8019.jpg</td>\n",
              "      <td>Food</td>\n",
              "    </tr>\n",
              "    <tr>\n",
              "      <th>4</th>\n",
              "      <td>image2128.jpg</td>\n",
              "      <td>Attire</td>\n",
              "    </tr>\n",
              "  </tbody>\n",
              "</table>\n",
              "</div>"
            ],
            "text/plain": [
              "            Image   Class\n",
              "0   image7042.jpg    Food\n",
              "1   image3327.jpg    misc\n",
              "2  image10335.jpg  Attire\n",
              "3   image8019.jpg    Food\n",
              "4   image2128.jpg  Attire"
            ]
          },
          "metadata": {
            "tags": []
          },
          "execution_count": 5
        }
      ]
    },
    {
      "cell_type": "code",
      "metadata": {
        "colab": {
          "base_uri": "https://localhost:8080/"
        },
        "id": "C55maqg1Ty2E",
        "outputId": "1a9cff6d-18c5-40d7-fca8-8b6e13966620"
      },
      "source": [
        "df_train['Class'].unique()"
      ],
      "execution_count": null,
      "outputs": [
        {
          "output_type": "execute_result",
          "data": {
            "text/plain": [
              "array(['Food', 'misc', 'Attire', 'Decorationandsignage'], dtype=object)"
            ]
          },
          "metadata": {
            "tags": []
          },
          "execution_count": 66
        }
      ]
    },
    {
      "cell_type": "code",
      "metadata": {
        "colab": {
          "base_uri": "https://localhost:8080/"
        },
        "id": "v0Q0R-V7w9wg",
        "outputId": "2e3ddba7-b1cd-48d0-d9e7-a80b4c707ff4"
      },
      "source": [
        "img_label=[]\n",
        "for img in glob.glob(train_path+\"*.jpg\"):\n",
        "  label = img.title().lower().split('/')\n",
        "  if label not in img_label:\n",
        "      img_label.append(label[5])\n",
        "  else:\n",
        "      print(label[5])\n",
        "print(len(img_label)) "
      ],
      "execution_count": null,
      "outputs": [
        {
          "output_type": "stream",
          "text": [
            "5983\n"
          ],
          "name": "stdout"
        }
      ]
    },
    {
      "cell_type": "code",
      "metadata": {
        "id": "K8ZZL2X3369w"
      },
      "source": [
        "df = pd.DataFrame({'label':img_label})\n",
        "df_new = pd.concat([df_train,df],axis=1)\n",
        "df_sort=df_new.set_index('Image')"
      ],
      "execution_count": null,
      "outputs": []
    },
    {
      "cell_type": "code",
      "metadata": {
        "id": "Ad83hzxarffx",
        "colab": {
          "base_uri": "https://localhost:8080/"
        },
        "outputId": "7ea7f7f1-83dc-40a5-a3ee-c04f055d1fd7"
      },
      "source": [
        "label_class = []\n",
        "for i in img_label:\n",
        "  item = df_sort.loc[i,'Class']\n",
        "  label_class.append(item)\n",
        "print(len(label_class))"
      ],
      "execution_count": null,
      "outputs": [
        {
          "output_type": "stream",
          "text": [
            "5983\n"
          ],
          "name": "stdout"
        }
      ]
    },
    {
      "cell_type": "code",
      "metadata": {
        "id": "qimqnCiODIcA",
        "colab": {
          "base_uri": "https://localhost:8080/",
          "height": 202
        },
        "outputId": "1762b991-4089-46a3-f515-2f254f5cac16"
      },
      "source": [
        "df = pd.DataFrame({'Class_label':label_class})\n",
        "df_TrainSorted = pd.concat([df_new,df],axis=1)\n",
        "df_TrainSorted.drop(['Image','Class'],axis=1,inplace=True)\n",
        "df_TrainSorted['Class_label'] = df_TrainSorted['Class_label'].astype('category')\n",
        "df_TrainSorted['Class_label_Cat'] = df_TrainSorted['Class_label'].cat.codes\n",
        "df_TrainSorted.head()"
      ],
      "execution_count": null,
      "outputs": [
        {
          "output_type": "execute_result",
          "data": {
            "text/html": [
              "<div>\n",
              "<style scoped>\n",
              "    .dataframe tbody tr th:only-of-type {\n",
              "        vertical-align: middle;\n",
              "    }\n",
              "\n",
              "    .dataframe tbody tr th {\n",
              "        vertical-align: top;\n",
              "    }\n",
              "\n",
              "    .dataframe thead th {\n",
              "        text-align: right;\n",
              "    }\n",
              "</style>\n",
              "<table border=\"1\" class=\"dataframe\">\n",
              "  <thead>\n",
              "    <tr style=\"text-align: right;\">\n",
              "      <th></th>\n",
              "      <th>label</th>\n",
              "      <th>Class_label</th>\n",
              "      <th>Class_label_Cat</th>\n",
              "    </tr>\n",
              "  </thead>\n",
              "  <tbody>\n",
              "    <tr>\n",
              "      <th>0</th>\n",
              "      <td>image471.jpg</td>\n",
              "      <td>misc</td>\n",
              "      <td>3</td>\n",
              "    </tr>\n",
              "    <tr>\n",
              "      <th>1</th>\n",
              "      <td>image8531.jpg</td>\n",
              "      <td>Attire</td>\n",
              "      <td>0</td>\n",
              "    </tr>\n",
              "    <tr>\n",
              "      <th>2</th>\n",
              "      <td>image7497.jpg</td>\n",
              "      <td>misc</td>\n",
              "      <td>3</td>\n",
              "    </tr>\n",
              "    <tr>\n",
              "      <th>3</th>\n",
              "      <td>image405.jpg</td>\n",
              "      <td>misc</td>\n",
              "      <td>3</td>\n",
              "    </tr>\n",
              "    <tr>\n",
              "      <th>4</th>\n",
              "      <td>image4427.jpg</td>\n",
              "      <td>misc</td>\n",
              "      <td>3</td>\n",
              "    </tr>\n",
              "  </tbody>\n",
              "</table>\n",
              "</div>"
            ],
            "text/plain": [
              "           label Class_label  Class_label_Cat\n",
              "0   image471.jpg        misc                3\n",
              "1  image8531.jpg      Attire                0\n",
              "2  image7497.jpg        misc                3\n",
              "3   image405.jpg        misc                3\n",
              "4  image4427.jpg        misc                3"
            ]
          },
          "metadata": {
            "tags": []
          },
          "execution_count": 9
        }
      ]
    },
    {
      "cell_type": "code",
      "metadata": {
        "id": "Y4pR7NkP-H2p"
      },
      "source": [
        "coded_class = df_TrainSorted['Class_label_Cat'].tolist()"
      ],
      "execution_count": null,
      "outputs": []
    },
    {
      "cell_type": "code",
      "metadata": {
        "id": "5FjlQU0N15Al"
      },
      "source": [
        "def sort_images_drive():\n",
        "  data=[]\n",
        "  i=0\n",
        "  count=[]\n",
        "  for img in os.listdir( train_path ):\n",
        "    imgpath = os.path.join(train_path,img)\n",
        "    img_array=imread(imgpath)\n",
        "    img_resized=resize(img_array,(50,50,3))\n",
        "    image_flat=np.array(img_resized).flatten()\n",
        "    image_flat = image_flat\n",
        "    if (len(image_flat)) == 7500:\n",
        "        data.append([image_flat,coded_class[i]])\n",
        "    else:\n",
        "        print(len(image_flat))\n",
        "        count.append(i)\n",
        "    i=i+1\n",
        "  print(len(count))\n",
        "  print(len(data))\n",
        "  return data"
      ],
      "execution_count": null,
      "outputs": []
    },
    {
      "cell_type": "code",
      "metadata": {
        "colab": {
          "base_uri": "https://localhost:8080/"
        },
        "id": "vJfFXlop9V4w",
        "outputId": "6034c65e-fa5e-4d57-f50d-88cbe3669d36"
      },
      "source": [
        "data=sort_images_drive()"
      ],
      "execution_count": null,
      "outputs": [
        {
          "output_type": "stream",
          "text": [
            "0\n",
            "5983\n"
          ],
          "name": "stdout"
        }
      ]
    },
    {
      "cell_type": "code",
      "metadata": {
        "id": "LIIzajjCYGw4",
        "colab": {
          "base_uri": "https://localhost:8080/"
        },
        "outputId": "e4a84faa-8142-43bd-8f1c-78c7200ab8ba"
      },
      "source": [
        "pick_in = open('data.pickle','wb') \n",
        "pickle.dump(data,pick_in)\n",
        "pick_in.close"
      ],
      "execution_count": null,
      "outputs": [
        {
          "output_type": "execute_result",
          "data": {
            "text/plain": [
              "<function BufferedWriter.close>"
            ]
          },
          "metadata": {
            "tags": []
          },
          "execution_count": 13
        }
      ]
    },
    {
      "cell_type": "code",
      "metadata": {
        "id": "F_M-9fS9lkoz"
      },
      "source": [
        "pick_in = open('data.pickle','rb') \n",
        "data = pickle.load(pick_in)\n",
        "pick_in.close"
      ],
      "execution_count": null,
      "outputs": []
    },
    {
      "cell_type": "code",
      "metadata": {
        "id": "mxXXIXuqmH1Q"
      },
      "source": [
        "features= []\n",
        "labels = []\n",
        "for feature,label in data:\n",
        "  features.append(feature)\n",
        "  labels.append(label)"
      ],
      "execution_count": null,
      "outputs": []
    },
    {
      "cell_type": "code",
      "metadata": {
        "id": "CwdDuNmfMYy4"
      },
      "source": [
        "df=pd.DataFrame(features) #dataframe\n",
        "df['Target']=labels"
      ],
      "execution_count": null,
      "outputs": []
    },
    {
      "cell_type": "code",
      "metadata": {
        "id": "z3ag6IvlVmYu"
      },
      "source": [
        "x=df.iloc[:,:-1] #input data \n",
        "y=df.iloc[:,-1] #output data"
      ],
      "execution_count": null,
      "outputs": []
    },
    {
      "cell_type": "code",
      "metadata": {
        "colab": {
          "base_uri": "https://localhost:8080/",
          "height": 251
        },
        "id": "G2u4y3R0Ahji",
        "outputId": "dfd7699d-c196-4329-aa00-53a8500e611c"
      },
      "source": [
        "df.head()"
      ],
      "execution_count": null,
      "outputs": [
        {
          "output_type": "execute_result",
          "data": {
            "text/html": [
              "<div>\n",
              "<style scoped>\n",
              "    .dataframe tbody tr th:only-of-type {\n",
              "        vertical-align: middle;\n",
              "    }\n",
              "\n",
              "    .dataframe tbody tr th {\n",
              "        vertical-align: top;\n",
              "    }\n",
              "\n",
              "    .dataframe thead th {\n",
              "        text-align: right;\n",
              "    }\n",
              "</style>\n",
              "<table border=\"1\" class=\"dataframe\">\n",
              "  <thead>\n",
              "    <tr style=\"text-align: right;\">\n",
              "      <th></th>\n",
              "      <th>0</th>\n",
              "      <th>1</th>\n",
              "      <th>2</th>\n",
              "      <th>3</th>\n",
              "      <th>4</th>\n",
              "      <th>5</th>\n",
              "      <th>6</th>\n",
              "      <th>7</th>\n",
              "      <th>8</th>\n",
              "      <th>9</th>\n",
              "      <th>10</th>\n",
              "      <th>11</th>\n",
              "      <th>12</th>\n",
              "      <th>13</th>\n",
              "      <th>14</th>\n",
              "      <th>15</th>\n",
              "      <th>16</th>\n",
              "      <th>17</th>\n",
              "      <th>18</th>\n",
              "      <th>19</th>\n",
              "      <th>20</th>\n",
              "      <th>21</th>\n",
              "      <th>22</th>\n",
              "      <th>23</th>\n",
              "      <th>24</th>\n",
              "      <th>25</th>\n",
              "      <th>26</th>\n",
              "      <th>27</th>\n",
              "      <th>28</th>\n",
              "      <th>29</th>\n",
              "      <th>30</th>\n",
              "      <th>31</th>\n",
              "      <th>32</th>\n",
              "      <th>33</th>\n",
              "      <th>34</th>\n",
              "      <th>35</th>\n",
              "      <th>36</th>\n",
              "      <th>37</th>\n",
              "      <th>38</th>\n",
              "      <th>39</th>\n",
              "      <th>...</th>\n",
              "      <th>7461</th>\n",
              "      <th>7462</th>\n",
              "      <th>7463</th>\n",
              "      <th>7464</th>\n",
              "      <th>7465</th>\n",
              "      <th>7466</th>\n",
              "      <th>7467</th>\n",
              "      <th>7468</th>\n",
              "      <th>7469</th>\n",
              "      <th>7470</th>\n",
              "      <th>7471</th>\n",
              "      <th>7472</th>\n",
              "      <th>7473</th>\n",
              "      <th>7474</th>\n",
              "      <th>7475</th>\n",
              "      <th>7476</th>\n",
              "      <th>7477</th>\n",
              "      <th>7478</th>\n",
              "      <th>7479</th>\n",
              "      <th>7480</th>\n",
              "      <th>7481</th>\n",
              "      <th>7482</th>\n",
              "      <th>7483</th>\n",
              "      <th>7484</th>\n",
              "      <th>7485</th>\n",
              "      <th>7486</th>\n",
              "      <th>7487</th>\n",
              "      <th>7488</th>\n",
              "      <th>7489</th>\n",
              "      <th>7490</th>\n",
              "      <th>7491</th>\n",
              "      <th>7492</th>\n",
              "      <th>7493</th>\n",
              "      <th>7494</th>\n",
              "      <th>7495</th>\n",
              "      <th>7496</th>\n",
              "      <th>7497</th>\n",
              "      <th>7498</th>\n",
              "      <th>7499</th>\n",
              "      <th>Target</th>\n",
              "    </tr>\n",
              "  </thead>\n",
              "  <tbody>\n",
              "    <tr>\n",
              "      <th>0</th>\n",
              "      <td>0.427463</td>\n",
              "      <td>0.674522</td>\n",
              "      <td>0.882365</td>\n",
              "      <td>0.430984</td>\n",
              "      <td>0.678043</td>\n",
              "      <td>0.885886</td>\n",
              "      <td>0.433353</td>\n",
              "      <td>0.680412</td>\n",
              "      <td>0.888255</td>\n",
              "      <td>0.439608</td>\n",
              "      <td>0.686702</td>\n",
              "      <td>0.894510</td>\n",
              "      <td>0.443165</td>\n",
              "      <td>0.692941</td>\n",
              "      <td>0.898067</td>\n",
              "      <td>0.447059</td>\n",
              "      <td>0.695294</td>\n",
              "      <td>0.901961</td>\n",
              "      <td>0.450588</td>\n",
              "      <td>0.698039</td>\n",
              "      <td>0.905490</td>\n",
              "      <td>0.452941</td>\n",
              "      <td>0.700020</td>\n",
              "      <td>0.907843</td>\n",
              "      <td>0.455294</td>\n",
              "      <td>0.702388</td>\n",
              "      <td>0.910196</td>\n",
              "      <td>0.458824</td>\n",
              "      <td>0.705910</td>\n",
              "      <td>0.913753</td>\n",
              "      <td>0.454929</td>\n",
              "      <td>0.709816</td>\n",
              "      <td>0.918851</td>\n",
              "      <td>0.458431</td>\n",
              "      <td>0.713337</td>\n",
              "      <td>0.925098</td>\n",
              "      <td>0.460784</td>\n",
              "      <td>0.715686</td>\n",
              "      <td>0.927451</td>\n",
              "      <td>0.462745</td>\n",
              "      <td>...</td>\n",
              "      <td>0.467765</td>\n",
              "      <td>0.295196</td>\n",
              "      <td>0.228549</td>\n",
              "      <td>0.451137</td>\n",
              "      <td>0.270745</td>\n",
              "      <td>0.207604</td>\n",
              "      <td>0.435271</td>\n",
              "      <td>0.257596</td>\n",
              "      <td>0.188173</td>\n",
              "      <td>0.369706</td>\n",
              "      <td>0.243012</td>\n",
              "      <td>0.186961</td>\n",
              "      <td>0.422373</td>\n",
              "      <td>0.271784</td>\n",
              "      <td>0.205902</td>\n",
              "      <td>0.510765</td>\n",
              "      <td>0.328412</td>\n",
              "      <td>0.248039</td>\n",
              "      <td>0.555549</td>\n",
              "      <td>0.355941</td>\n",
              "      <td>0.273588</td>\n",
              "      <td>0.544153</td>\n",
              "      <td>0.350820</td>\n",
              "      <td>0.279447</td>\n",
              "      <td>0.463702</td>\n",
              "      <td>0.298604</td>\n",
              "      <td>0.242918</td>\n",
              "      <td>0.371871</td>\n",
              "      <td>0.236184</td>\n",
              "      <td>0.200498</td>\n",
              "      <td>0.318373</td>\n",
              "      <td>0.188961</td>\n",
              "      <td>0.153667</td>\n",
              "      <td>0.275235</td>\n",
              "      <td>0.148961</td>\n",
              "      <td>0.105431</td>\n",
              "      <td>0.370345</td>\n",
              "      <td>0.239757</td>\n",
              "      <td>0.184463</td>\n",
              "      <td>3</td>\n",
              "    </tr>\n",
              "    <tr>\n",
              "      <th>1</th>\n",
              "      <td>0.029882</td>\n",
              "      <td>0.023216</td>\n",
              "      <td>0.041020</td>\n",
              "      <td>0.023608</td>\n",
              "      <td>0.026745</td>\n",
              "      <td>0.044549</td>\n",
              "      <td>0.025176</td>\n",
              "      <td>0.034980</td>\n",
              "      <td>0.055647</td>\n",
              "      <td>0.026745</td>\n",
              "      <td>0.041647</td>\n",
              "      <td>0.052447</td>\n",
              "      <td>0.017725</td>\n",
              "      <td>0.020078</td>\n",
              "      <td>0.017969</td>\n",
              "      <td>0.009075</td>\n",
              "      <td>0.005153</td>\n",
              "      <td>0.001082</td>\n",
              "      <td>0.003733</td>\n",
              "      <td>0.003341</td>\n",
              "      <td>0.000361</td>\n",
              "      <td>0.000000</td>\n",
              "      <td>0.014471</td>\n",
              "      <td>0.038000</td>\n",
              "      <td>0.099678</td>\n",
              "      <td>0.162478</td>\n",
              "      <td>0.223655</td>\n",
              "      <td>0.588565</td>\n",
              "      <td>0.679153</td>\n",
              "      <td>0.769741</td>\n",
              "      <td>0.571765</td>\n",
              "      <td>0.711765</td>\n",
              "      <td>0.807059</td>\n",
              "      <td>0.603137</td>\n",
              "      <td>0.736863</td>\n",
              "      <td>0.834902</td>\n",
              "      <td>0.624706</td>\n",
              "      <td>0.740392</td>\n",
              "      <td>0.852157</td>\n",
              "      <td>0.633333</td>\n",
              "      <td>...</td>\n",
              "      <td>0.784157</td>\n",
              "      <td>0.797882</td>\n",
              "      <td>0.837098</td>\n",
              "      <td>0.784533</td>\n",
              "      <td>0.808847</td>\n",
              "      <td>0.856298</td>\n",
              "      <td>0.741875</td>\n",
              "      <td>0.778737</td>\n",
              "      <td>0.826973</td>\n",
              "      <td>0.760251</td>\n",
              "      <td>0.773498</td>\n",
              "      <td>0.808792</td>\n",
              "      <td>0.758847</td>\n",
              "      <td>0.770612</td>\n",
              "      <td>0.805906</td>\n",
              "      <td>0.753686</td>\n",
              "      <td>0.763490</td>\n",
              "      <td>0.795922</td>\n",
              "      <td>0.754643</td>\n",
              "      <td>0.758384</td>\n",
              "      <td>0.785443</td>\n",
              "      <td>0.759514</td>\n",
              "      <td>0.762894</td>\n",
              "      <td>0.783678</td>\n",
              "      <td>0.786204</td>\n",
              "      <td>0.790125</td>\n",
              "      <td>0.805812</td>\n",
              "      <td>0.775137</td>\n",
              "      <td>0.775529</td>\n",
              "      <td>0.786063</td>\n",
              "      <td>0.754000</td>\n",
              "      <td>0.754000</td>\n",
              "      <td>0.759882</td>\n",
              "      <td>0.736831</td>\n",
              "      <td>0.736831</td>\n",
              "      <td>0.736831</td>\n",
              "      <td>0.733020</td>\n",
              "      <td>0.733020</td>\n",
              "      <td>0.733020</td>\n",
              "      <td>0</td>\n",
              "    </tr>\n",
              "    <tr>\n",
              "      <th>2</th>\n",
              "      <td>0.363216</td>\n",
              "      <td>0.378471</td>\n",
              "      <td>0.363451</td>\n",
              "      <td>0.425882</td>\n",
              "      <td>0.434078</td>\n",
              "      <td>0.420824</td>\n",
              "      <td>0.442549</td>\n",
              "      <td>0.450784</td>\n",
              "      <td>0.430000</td>\n",
              "      <td>0.461216</td>\n",
              "      <td>0.465922</td>\n",
              "      <td>0.444314</td>\n",
              "      <td>0.620902</td>\n",
              "      <td>0.625333</td>\n",
              "      <td>0.599843</td>\n",
              "      <td>0.433725</td>\n",
              "      <td>0.464314</td>\n",
              "      <td>0.414510</td>\n",
              "      <td>0.506157</td>\n",
              "      <td>0.529333</td>\n",
              "      <td>0.483059</td>\n",
              "      <td>0.479412</td>\n",
              "      <td>0.496078</td>\n",
              "      <td>0.463725</td>\n",
              "      <td>0.442706</td>\n",
              "      <td>0.449765</td>\n",
              "      <td>0.432118</td>\n",
              "      <td>0.443373</td>\n",
              "      <td>0.444941</td>\n",
              "      <td>0.441765</td>\n",
              "      <td>0.426078</td>\n",
              "      <td>0.406196</td>\n",
              "      <td>0.402000</td>\n",
              "      <td>0.579020</td>\n",
              "      <td>0.581843</td>\n",
              "      <td>0.562824</td>\n",
              "      <td>0.553529</td>\n",
              "      <td>0.575294</td>\n",
              "      <td>0.554902</td>\n",
              "      <td>0.665412</td>\n",
              "      <td>...</td>\n",
              "      <td>0.511765</td>\n",
              "      <td>0.466667</td>\n",
              "      <td>0.388235</td>\n",
              "      <td>0.510588</td>\n",
              "      <td>0.488235</td>\n",
              "      <td>0.434510</td>\n",
              "      <td>0.516549</td>\n",
              "      <td>0.524000</td>\n",
              "      <td>0.493804</td>\n",
              "      <td>0.516431</td>\n",
              "      <td>0.520353</td>\n",
              "      <td>0.496824</td>\n",
              "      <td>0.532941</td>\n",
              "      <td>0.536863</td>\n",
              "      <td>0.513333</td>\n",
              "      <td>0.522745</td>\n",
              "      <td>0.526667</td>\n",
              "      <td>0.503137</td>\n",
              "      <td>0.534078</td>\n",
              "      <td>0.538000</td>\n",
              "      <td>0.514471</td>\n",
              "      <td>0.596314</td>\n",
              "      <td>0.600235</td>\n",
              "      <td>0.576706</td>\n",
              "      <td>0.581098</td>\n",
              "      <td>0.592863</td>\n",
              "      <td>0.565412</td>\n",
              "      <td>0.515922</td>\n",
              "      <td>0.527686</td>\n",
              "      <td>0.500235</td>\n",
              "      <td>0.589216</td>\n",
              "      <td>0.600980</td>\n",
              "      <td>0.573529</td>\n",
              "      <td>0.619020</td>\n",
              "      <td>0.630784</td>\n",
              "      <td>0.603333</td>\n",
              "      <td>0.544314</td>\n",
              "      <td>0.556078</td>\n",
              "      <td>0.528627</td>\n",
              "      <td>3</td>\n",
              "    </tr>\n",
              "    <tr>\n",
              "      <th>3</th>\n",
              "      <td>0.331412</td>\n",
              "      <td>0.343843</td>\n",
              "      <td>0.277569</td>\n",
              "      <td>0.351176</td>\n",
              "      <td>0.363255</td>\n",
              "      <td>0.296627</td>\n",
              "      <td>0.345294</td>\n",
              "      <td>0.357059</td>\n",
              "      <td>0.288235</td>\n",
              "      <td>0.335490</td>\n",
              "      <td>0.347294</td>\n",
              "      <td>0.272745</td>\n",
              "      <td>0.348980</td>\n",
              "      <td>0.360863</td>\n",
              "      <td>0.286235</td>\n",
              "      <td>0.325725</td>\n",
              "      <td>0.337490</td>\n",
              "      <td>0.260627</td>\n",
              "      <td>0.321922</td>\n",
              "      <td>0.333686</td>\n",
              "      <td>0.251333</td>\n",
              "      <td>0.334510</td>\n",
              "      <td>0.346275</td>\n",
              "      <td>0.263922</td>\n",
              "      <td>0.343176</td>\n",
              "      <td>0.354941</td>\n",
              "      <td>0.272588</td>\n",
              "      <td>0.358824</td>\n",
              "      <td>0.373333</td>\n",
              "      <td>0.287961</td>\n",
              "      <td>0.362745</td>\n",
              "      <td>0.374510</td>\n",
              "      <td>0.297098</td>\n",
              "      <td>0.335686</td>\n",
              "      <td>0.350980</td>\n",
              "      <td>0.261569</td>\n",
              "      <td>0.360784</td>\n",
              "      <td>0.374510</td>\n",
              "      <td>0.272549</td>\n",
              "      <td>0.359686</td>\n",
              "      <td>...</td>\n",
              "      <td>0.538824</td>\n",
              "      <td>0.527451</td>\n",
              "      <td>0.389020</td>\n",
              "      <td>0.554588</td>\n",
              "      <td>0.543216</td>\n",
              "      <td>0.404784</td>\n",
              "      <td>0.538196</td>\n",
              "      <td>0.526824</td>\n",
              "      <td>0.388392</td>\n",
              "      <td>0.538431</td>\n",
              "      <td>0.547451</td>\n",
              "      <td>0.390196</td>\n",
              "      <td>0.531529</td>\n",
              "      <td>0.540549</td>\n",
              "      <td>0.383294</td>\n",
              "      <td>0.495882</td>\n",
              "      <td>0.510196</td>\n",
              "      <td>0.351176</td>\n",
              "      <td>0.502863</td>\n",
              "      <td>0.523608</td>\n",
              "      <td>0.362471</td>\n",
              "      <td>0.498549</td>\n",
              "      <td>0.526275</td>\n",
              "      <td>0.361686</td>\n",
              "      <td>0.516000</td>\n",
              "      <td>0.546078</td>\n",
              "      <td>0.380196</td>\n",
              "      <td>0.483529</td>\n",
              "      <td>0.522706</td>\n",
              "      <td>0.354078</td>\n",
              "      <td>0.449804</td>\n",
              "      <td>0.492941</td>\n",
              "      <td>0.324314</td>\n",
              "      <td>0.426196</td>\n",
              "      <td>0.470824</td>\n",
              "      <td>0.301451</td>\n",
              "      <td>0.482824</td>\n",
              "      <td>0.533804</td>\n",
              "      <td>0.361255</td>\n",
              "      <td>3</td>\n",
              "    </tr>\n",
              "    <tr>\n",
              "      <th>4</th>\n",
              "      <td>0.000000</td>\n",
              "      <td>0.000000</td>\n",
              "      <td>0.000000</td>\n",
              "      <td>0.000000</td>\n",
              "      <td>0.000000</td>\n",
              "      <td>0.000000</td>\n",
              "      <td>0.000000</td>\n",
              "      <td>0.000000</td>\n",
              "      <td>0.000000</td>\n",
              "      <td>0.000000</td>\n",
              "      <td>0.000000</td>\n",
              "      <td>0.000000</td>\n",
              "      <td>0.000000</td>\n",
              "      <td>0.000000</td>\n",
              "      <td>0.000000</td>\n",
              "      <td>0.000000</td>\n",
              "      <td>0.000000</td>\n",
              "      <td>0.000000</td>\n",
              "      <td>0.000000</td>\n",
              "      <td>0.000000</td>\n",
              "      <td>0.000000</td>\n",
              "      <td>0.000000</td>\n",
              "      <td>0.000000</td>\n",
              "      <td>0.000000</td>\n",
              "      <td>0.000000</td>\n",
              "      <td>0.000000</td>\n",
              "      <td>0.000000</td>\n",
              "      <td>0.000000</td>\n",
              "      <td>0.000000</td>\n",
              "      <td>0.000000</td>\n",
              "      <td>0.000000</td>\n",
              "      <td>0.000000</td>\n",
              "      <td>0.000000</td>\n",
              "      <td>0.000000</td>\n",
              "      <td>0.000000</td>\n",
              "      <td>0.000000</td>\n",
              "      <td>0.000000</td>\n",
              "      <td>0.000000</td>\n",
              "      <td>0.000000</td>\n",
              "      <td>0.000000</td>\n",
              "      <td>...</td>\n",
              "      <td>0.000000</td>\n",
              "      <td>0.000000</td>\n",
              "      <td>0.000000</td>\n",
              "      <td>0.000000</td>\n",
              "      <td>0.000000</td>\n",
              "      <td>0.000000</td>\n",
              "      <td>0.000000</td>\n",
              "      <td>0.000000</td>\n",
              "      <td>0.001565</td>\n",
              "      <td>0.000000</td>\n",
              "      <td>0.000000</td>\n",
              "      <td>0.000000</td>\n",
              "      <td>0.001518</td>\n",
              "      <td>0.001518</td>\n",
              "      <td>0.001518</td>\n",
              "      <td>0.008667</td>\n",
              "      <td>0.008667</td>\n",
              "      <td>0.006431</td>\n",
              "      <td>0.053200</td>\n",
              "      <td>0.053200</td>\n",
              "      <td>0.049224</td>\n",
              "      <td>0.013141</td>\n",
              "      <td>0.013141</td>\n",
              "      <td>0.011800</td>\n",
              "      <td>0.000000</td>\n",
              "      <td>0.000000</td>\n",
              "      <td>0.000000</td>\n",
              "      <td>0.000000</td>\n",
              "      <td>0.000000</td>\n",
              "      <td>0.000000</td>\n",
              "      <td>0.000000</td>\n",
              "      <td>0.000000</td>\n",
              "      <td>0.000000</td>\n",
              "      <td>0.000000</td>\n",
              "      <td>0.000000</td>\n",
              "      <td>0.000000</td>\n",
              "      <td>0.000000</td>\n",
              "      <td>0.000000</td>\n",
              "      <td>0.000000</td>\n",
              "      <td>3</td>\n",
              "    </tr>\n",
              "  </tbody>\n",
              "</table>\n",
              "<p>5 rows × 7501 columns</p>\n",
              "</div>"
            ],
            "text/plain": [
              "          0         1         2         3  ...      7497      7498      7499  Target\n",
              "0  0.427463  0.674522  0.882365  0.430984  ...  0.370345  0.239757  0.184463       3\n",
              "1  0.029882  0.023216  0.041020  0.023608  ...  0.733020  0.733020  0.733020       0\n",
              "2  0.363216  0.378471  0.363451  0.425882  ...  0.544314  0.556078  0.528627       3\n",
              "3  0.331412  0.343843  0.277569  0.351176  ...  0.482824  0.533804  0.361255       3\n",
              "4  0.000000  0.000000  0.000000  0.000000  ...  0.000000  0.000000  0.000000       3\n",
              "\n",
              "[5 rows x 7501 columns]"
            ]
          },
          "metadata": {
            "tags": []
          },
          "execution_count": 17
        }
      ]
    },
    {
      "cell_type": "markdown",
      "metadata": {
        "id": "9nSM1D0ygglf"
      },
      "source": [
        "# PCA Decompose"
      ]
    },
    {
      "cell_type": "code",
      "metadata": {
        "id": "XeLsJXNNkBDJ"
      },
      "source": [
        "pca = PCA(0.95).fit(x)"
      ],
      "execution_count": null,
      "outputs": []
    },
    {
      "cell_type": "code",
      "metadata": {
        "colab": {
          "base_uri": "https://localhost:8080/",
          "height": 295
        },
        "id": "uP4mDZJZR1hd",
        "outputId": "f4a62997-e59a-41d7-b670-8b723fa743a5"
      },
      "source": [
        "var=np.cumsum(np.round(pca.explained_variance_ratio_, decimals=4)*100)\n",
        "plt.ylabel('% Variance Explained')\n",
        "plt.xlabel('Number of Features')\n",
        "plt.title('PCA Analysis')\n",
        "plt.ylim(30,100.5)\n",
        "plt.style.context('seaborn-whitegrid')\n",
        "plt.plot(var)\n",
        "plt.grid()"
      ],
      "execution_count": null,
      "outputs": [
        {
          "output_type": "display_data",
          "data": {
            "image/png": "[encoded data removed]",
            "text/plain": [
              "<Figure size 432x288 with 1 Axes>"
            ]
          },
          "metadata": {
            "tags": [],
            "needs_background": "light"
          }
        }
      ]
    },
    {
      "cell_type": "code",
      "metadata": {
        "colab": {
          "base_uri": "https://localhost:8080/"
        },
        "id": "xBTHEJCXSBks",
        "outputId": "f6159717-8f9e-45e1-fa75-4ba4f6a71d38"
      },
      "source": [
        "print('%d components explain 95%% of the variation in data' % pca.n_components_)"
      ],
      "execution_count": null,
      "outputs": [
        {
          "output_type": "stream",
          "text": [
            "454 components explain 95% of the variation in data\n"
          ],
          "name": "stdout"
        }
      ]
    },
    {
      "cell_type": "code",
      "metadata": {
        "colab": {
          "base_uri": "https://localhost:8080/"
        },
        "id": "KWEamVClSH_F",
        "outputId": "b184dbf2-386a-49d3-cd75-ed6aa784183f"
      },
      "source": [
        "pca = PCA(n_components=454 , random_state = 42)\n",
        "pca.fit(x)\n",
        "x_pca = pca.transform(x)\n",
        "print(x_pca.shape)"
      ],
      "execution_count": null,
      "outputs": [
        {
          "output_type": "stream",
          "text": [
            "(5983, 454)\n"
          ],
          "name": "stdout"
        }
      ]
    },
    {
      "cell_type": "code",
      "metadata": {
        "id": "5ojpCJi0V0RW"
      },
      "source": [
        "X_train_pca,X_test_pca,y_train,y_test = train_test_split(x_pca,y,test_size=0.20,random_state=42,stratify=y)"
      ],
      "execution_count": null,
      "outputs": []
    },
    {
      "cell_type": "markdown",
      "metadata": {
        "id": "C-iAOTSmLbVf"
      },
      "source": [
        "# Classifier Models Compare"
      ]
    },
    {
      "cell_type": "code",
      "metadata": {
        "id": "gYoQjCp9Y9iW"
      },
      "source": [
        "# Initialize Regressors\n",
        "nbc  = GaussianNB()\n",
        "svc  = SVC()\n",
        "dt   = DecisionTreeClassifier(random_state = 42)\n",
        "rf   = RandomForestClassifier(random_state = 42)\n",
        "knn  = KNeighborsClassifier()\n",
        "sgd  = SGDClassifier(random_state=42)"
      ],
      "execution_count": null,
      "outputs": []
    },
    {
      "cell_type": "code",
      "metadata": {
        "id": "7-sH7MAHaEov"
      },
      "source": [
        "def model_train_list(model_list):\n",
        "  # Create an empty list to append scores and Regressor name\n",
        "  train_scores = []\n",
        "  test_scores = []\n",
        "  reg_names = []\n",
        "\n",
        "  # Train Regressor over train data and append scores to empty list\n",
        "  for reg in model_list:\n",
        "    # Fit the train data over the Regressor object\n",
        "    start = time.time()\n",
        "    reg.fit(X_train_pca, y_train)\n",
        "    y_predict = reg.predict(X_test_pca) \n",
        "    y_predict_tr = reg.predict(X_train_pca)  \n",
        "    end = time.time()\n",
        "    # Append train and test score to the empty list\n",
        "    train_scores.append(accuracy_score(y_train,y_predict_tr))\n",
        "    test_scores.append(accuracy_score(y_test,y_predict))\n",
        "    #rmse_train.append(math.sqrt(mean_squared_error(y_train,y_predict_tr)))\n",
        "    #rmse_test.append(math.sqrt(mean_squared_error(y_test,y_predict)))               \n",
        "    reg_names.append(reg.__class__.__name__)\n",
        "    print(reg.__class__.__name__,':',np.round(end-start,decimals=2),'secs \\n')\n",
        "  #Create an accuracy dataframe from scores and names list\n",
        "  accuracy_frame = pd.DataFrame(data={'Train Accuracy': train_scores, 'Test Accuracy': test_scores}, index=reg_names)\n",
        "  #View the accuracy of all the regressors\n",
        "  return accuracy_frame.round(5)"
      ],
      "execution_count": null,
      "outputs": []
    },
    {
      "cell_type": "code",
      "metadata": {
        "id": "E3VoFi5VqFhC"
      },
      "source": [
        "def model_fit_predict(model):\n",
        "  model.fit(X_train_pca, y_train)\n",
        "  y_predict = model.predict(X_test_pca) \n",
        "  y_predict_tr = model.predict(X_train_pca)  \n",
        "  acc_tr = accuracy_score(y_train,y_predict_tr)\n",
        "  acc_tst = accuracy_score(y_test,y_predict)\n",
        "  # Append train and test score to the empty list\n",
        "  accuracy_frame = pd.DataFrame(data={'Accuracy': [acc_tr,acc_tst]}, \n",
        "                                      index=['Train','Test'])\n",
        "\n",
        "  print(accuracy_frame.round(5))"
      ],
      "execution_count": null,
      "outputs": []
    },
    {
      "cell_type": "code",
      "metadata": {
        "colab": {
          "base_uri": "https://localhost:8080/"
        },
        "id": "beBYqRAea-jo",
        "outputId": "83bbd9b6-ddd5-4272-b03c-1b2d44d8eeda"
      },
      "source": [
        "# Intialize a list of Regressor objects\n",
        "%%time\n",
        "reg_list = [ nbc,sgd,svc, dt, rf, knn]\n",
        "accuracy_frame = model_train_list(reg_list)"
      ],
      "execution_count": null,
      "outputs": [
        {
          "output_type": "stream",
          "text": [
            "GaussianNB : 0.09 secs \n",
            "\n",
            "SGDClassifier : 2.59 secs \n",
            "\n",
            "SVC : 34.33 secs \n",
            "\n",
            "DecisionTreeClassifier : 2.47 secs \n",
            "\n",
            "RandomForestClassifier : 8.39 secs \n",
            "\n",
            "KNeighborsClassifier : 18.12 secs \n",
            "\n",
            "CPU times: user 1min 6s, sys: 199 ms, total: 1min 6s\n",
            "Wall time: 1min 5s\n"
          ],
          "name": "stdout"
        }
      ]
    },
    {
      "cell_type": "code",
      "metadata": {
        "colab": {
          "base_uri": "https://localhost:8080/",
          "height": 233
        },
        "id": "G0x4mxk8d5AJ",
        "outputId": "461a622d-cf49-4d06-a25a-c5d3b01b3aa5"
      },
      "source": [
        "accuracy_frame.sort_values(by=['Test Accuracy'],ascending=False)  ##rgb2gray(80x60)"
      ],
      "execution_count": null,
      "outputs": [
        {
          "output_type": "execute_result",
          "data": {
            "text/html": [
              "<div>\n",
              "<style scoped>\n",
              "    .dataframe tbody tr th:only-of-type {\n",
              "        vertical-align: middle;\n",
              "    }\n",
              "\n",
              "    .dataframe tbody tr th {\n",
              "        vertical-align: top;\n",
              "    }\n",
              "\n",
              "    .dataframe thead th {\n",
              "        text-align: right;\n",
              "    }\n",
              "</style>\n",
              "<table border=\"1\" class=\"dataframe\">\n",
              "  <thead>\n",
              "    <tr style=\"text-align: right;\">\n",
              "      <th></th>\n",
              "      <th>Train Accuracy</th>\n",
              "      <th>Test Accuracy</th>\n",
              "    </tr>\n",
              "  </thead>\n",
              "  <tbody>\n",
              "    <tr>\n",
              "      <th>SVC</th>\n",
              "      <td>0.61387</td>\n",
              "      <td>0.47285</td>\n",
              "    </tr>\n",
              "    <tr>\n",
              "      <th>RandomForestClassifier</th>\n",
              "      <td>0.99666</td>\n",
              "      <td>0.40434</td>\n",
              "    </tr>\n",
              "    <tr>\n",
              "      <th>GaussianNB</th>\n",
              "      <td>0.41099</td>\n",
              "      <td>0.39599</td>\n",
              "    </tr>\n",
              "    <tr>\n",
              "      <th>KNeighborsClassifier</th>\n",
              "      <td>0.53907</td>\n",
              "      <td>0.35088</td>\n",
              "    </tr>\n",
              "    <tr>\n",
              "      <th>DecisionTreeClassifier</th>\n",
              "      <td>0.99666</td>\n",
              "      <td>0.33751</td>\n",
              "    </tr>\n",
              "    <tr>\n",
              "      <th>SGDClassifier</th>\n",
              "      <td>0.41601</td>\n",
              "      <td>0.33166</td>\n",
              "    </tr>\n",
              "  </tbody>\n",
              "</table>\n",
              "</div>"
            ],
            "text/plain": [
              "                        Train Accuracy  Test Accuracy\n",
              "SVC                            0.61387        0.47285\n",
              "RandomForestClassifier         0.99666        0.40434\n",
              "GaussianNB                     0.41099        0.39599\n",
              "KNeighborsClassifier           0.53907        0.35088\n",
              "DecisionTreeClassifier         0.99666        0.33751\n",
              "SGDClassifier                  0.41601        0.33166"
            ]
          },
          "metadata": {
            "tags": []
          },
          "execution_count": 128
        }
      ]
    },
    {
      "cell_type": "code",
      "metadata": {
        "colab": {
          "base_uri": "https://localhost:8080/",
          "height": 233
        },
        "id": "2Ar1oeHXi6py",
        "outputId": "9437a139-0edf-4696-e486-b5485e108917"
      },
      "source": [
        "accuracy_frame.sort_values(by=['Test Accuracy'],ascending=False)  ##(80x60x3)"
      ],
      "execution_count": null,
      "outputs": [
        {
          "output_type": "execute_result",
          "data": {
            "text/html": [
              "<div>\n",
              "<style scoped>\n",
              "    .dataframe tbody tr th:only-of-type {\n",
              "        vertical-align: middle;\n",
              "    }\n",
              "\n",
              "    .dataframe tbody tr th {\n",
              "        vertical-align: top;\n",
              "    }\n",
              "\n",
              "    .dataframe thead th {\n",
              "        text-align: right;\n",
              "    }\n",
              "</style>\n",
              "<table border=\"1\" class=\"dataframe\">\n",
              "  <thead>\n",
              "    <tr style=\"text-align: right;\">\n",
              "      <th></th>\n",
              "      <th>Train Accuracy</th>\n",
              "      <th>Test Accuracy</th>\n",
              "    </tr>\n",
              "  </thead>\n",
              "  <tbody>\n",
              "    <tr>\n",
              "      <th>SVC</th>\n",
              "      <td>0.70560</td>\n",
              "      <td>0.52715</td>\n",
              "    </tr>\n",
              "    <tr>\n",
              "      <th>GaussianNB</th>\n",
              "      <td>0.42541</td>\n",
              "      <td>0.42941</td>\n",
              "    </tr>\n",
              "    <tr>\n",
              "      <th>RandomForestClassifier</th>\n",
              "      <td>0.99666</td>\n",
              "      <td>0.42523</td>\n",
              "    </tr>\n",
              "    <tr>\n",
              "      <th>KNeighborsClassifier</th>\n",
              "      <td>0.57543</td>\n",
              "      <td>0.40267</td>\n",
              "    </tr>\n",
              "    <tr>\n",
              "      <th>SGDClassifier</th>\n",
              "      <td>0.46887</td>\n",
              "      <td>0.39265</td>\n",
              "    </tr>\n",
              "    <tr>\n",
              "      <th>DecisionTreeClassifier</th>\n",
              "      <td>0.99666</td>\n",
              "      <td>0.37928</td>\n",
              "    </tr>\n",
              "  </tbody>\n",
              "</table>\n",
              "</div>"
            ],
            "text/plain": [
              "                        Train Accuracy  Test Accuracy\n",
              "SVC                            0.70560        0.52715\n",
              "GaussianNB                     0.42541        0.42941\n",
              "RandomForestClassifier         0.99666        0.42523\n",
              "KNeighborsClassifier           0.57543        0.40267\n",
              "SGDClassifier                  0.46887        0.39265\n",
              "DecisionTreeClassifier         0.99666        0.37928"
            ]
          },
          "metadata": {
            "tags": []
          },
          "execution_count": 146
        }
      ]
    },
    {
      "cell_type": "code",
      "metadata": {
        "colab": {
          "base_uri": "https://localhost:8080/",
          "height": 233
        },
        "id": "UnIGBuWilOd_",
        "outputId": "446213ae-159e-4b5e-8263-725ba1fa5152"
      },
      "source": [
        "accuracy_frame.sort_values(by=['Test Accuracy'],ascending=False)  ##(50x50x3)"
      ],
      "execution_count": null,
      "outputs": [
        {
          "output_type": "execute_result",
          "data": {
            "text/html": [
              "<div>\n",
              "<style scoped>\n",
              "    .dataframe tbody tr th:only-of-type {\n",
              "        vertical-align: middle;\n",
              "    }\n",
              "\n",
              "    .dataframe tbody tr th {\n",
              "        vertical-align: top;\n",
              "    }\n",
              "\n",
              "    .dataframe thead th {\n",
              "        text-align: right;\n",
              "    }\n",
              "</style>\n",
              "<table border=\"1\" class=\"dataframe\">\n",
              "  <thead>\n",
              "    <tr style=\"text-align: right;\">\n",
              "      <th></th>\n",
              "      <th>Train Accuracy</th>\n",
              "      <th>Test Accuracy</th>\n",
              "    </tr>\n",
              "  </thead>\n",
              "  <tbody>\n",
              "    <tr>\n",
              "      <th>SVC</th>\n",
              "      <td>0.70414</td>\n",
              "      <td>0.52297</td>\n",
              "    </tr>\n",
              "    <tr>\n",
              "      <th>SGDClassifier</th>\n",
              "      <td>0.52925</td>\n",
              "      <td>0.44528</td>\n",
              "    </tr>\n",
              "    <tr>\n",
              "      <th>RandomForestClassifier</th>\n",
              "      <td>0.99666</td>\n",
              "      <td>0.43275</td>\n",
              "    </tr>\n",
              "    <tr>\n",
              "      <th>GaussianNB</th>\n",
              "      <td>0.43042</td>\n",
              "      <td>0.42774</td>\n",
              "    </tr>\n",
              "    <tr>\n",
              "      <th>KNeighborsClassifier</th>\n",
              "      <td>0.57397</td>\n",
              "      <td>0.39683</td>\n",
              "    </tr>\n",
              "    <tr>\n",
              "      <th>DecisionTreeClassifier</th>\n",
              "      <td>0.99666</td>\n",
              "      <td>0.35673</td>\n",
              "    </tr>\n",
              "  </tbody>\n",
              "</table>\n",
              "</div>"
            ],
            "text/plain": [
              "                        Train Accuracy  Test Accuracy\n",
              "SVC                            0.70414        0.52297\n",
              "SGDClassifier                  0.52925        0.44528\n",
              "RandomForestClassifier         0.99666        0.43275\n",
              "GaussianNB                     0.43042        0.42774\n",
              "KNeighborsClassifier           0.57397        0.39683\n",
              "DecisionTreeClassifier         0.99666        0.35673"
            ]
          },
          "metadata": {
            "tags": []
          },
          "execution_count": 161
        }
      ]
    },
    {
      "cell_type": "markdown",
      "metadata": {
        "id": "i8Y3cbhTiO5K"
      },
      "source": [
        "# SVC Tune"
      ]
    },
    {
      "cell_type": "code",
      "metadata": {
        "id": "eMXT_1z_W5O3"
      },
      "source": [
        "model = SVC()"
      ],
      "execution_count": null,
      "outputs": []
    },
    {
      "cell_type": "code",
      "metadata": {
        "id": "SAJ8VM_MWiYg"
      },
      "source": [
        "param_grid={'C':[0.01,0.1,0.5,1,2,5,10],'gamma':[0.0001,0.001,0.01,0.1,1]}\n",
        "model_tuned=GridSearchCV(model,param_grid,n_jobs=-1,verbose=3,cv=3,scoring='accuracy')"
      ],
      "execution_count": null,
      "outputs": []
    },
    {
      "cell_type": "code",
      "metadata": {
        "colab": {
          "base_uri": "https://localhost:8080/"
        },
        "id": "mJ9h07Z3W7h_",
        "outputId": "41b9f0cd-8ce1-4c59-9d1b-40e62a81cdb8"
      },
      "source": [
        "%%time\n",
        "model_tuned.fit(X_train_pca,y_train)"
      ],
      "execution_count": null,
      "outputs": [
        {
          "output_type": "stream",
          "text": [
            "Fitting 3 folds for each of 35 candidates, totalling 105 fits\n"
          ],
          "name": "stdout"
        },
        {
          "output_type": "stream",
          "text": [
            "[Parallel(n_jobs=-1)]: Using backend LokyBackend with 2 concurrent workers.\n",
            "[Parallel(n_jobs=-1)]: Done  28 tasks      | elapsed:  3.1min\n",
            "[Parallel(n_jobs=-1)]: Done 105 out of 105 | elapsed: 11.5min finished\n"
          ],
          "name": "stderr"
        },
        {
          "output_type": "stream",
          "text": [
            "CPU times: user 20 s, sys: 466 ms, total: 20.4 s\n",
            "Wall time: 11min 46s\n"
          ],
          "name": "stdout"
        },
        {
          "output_type": "execute_result",
          "data": {
            "text/plain": [
              "GridSearchCV(cv=3, error_score=nan,\n",
              "             estimator=SVC(C=1.0, break_ties=False, cache_size=200,\n",
              "                           class_weight=None, coef0=0.0,\n",
              "                           decision_function_shape='ovr', degree=3,\n",
              "                           gamma='scale', kernel='rbf', max_iter=-1,\n",
              "                           probability=False, random_state=None, shrinking=True,\n",
              "                           tol=0.001, verbose=False),\n",
              "             iid='deprecated', n_jobs=-1,\n",
              "             param_grid={'C': [0.01, 0.1, 0.5, 1, 2, 5, 10],\n",
              "                         'gamma': [0.0001, 0.001, 0.01, 0.1, 1]},\n",
              "             pre_dispatch='2*n_jobs', refit=True, return_train_score=False,\n",
              "             scoring='accuracy', verbose=3)"
            ]
          },
          "metadata": {
            "tags": []
          },
          "execution_count": 166
        }
      ]
    },
    {
      "cell_type": "code",
      "metadata": {
        "colab": {
          "base_uri": "https://localhost:8080/"
        },
        "id": "ttvSL1vmYjpe",
        "outputId": "23d76073-6e06-40d6-cb76-b30f13b19b2d"
      },
      "source": [
        "model_tuned.best_params_"
      ],
      "execution_count": null,
      "outputs": [
        {
          "output_type": "execute_result",
          "data": {
            "text/plain": [
              "{'C': 2, 'gamma': 0.001}"
            ]
          },
          "metadata": {
            "tags": []
          },
          "execution_count": 167
        }
      ]
    },
    {
      "cell_type": "code",
      "metadata": {
        "id": "FSRhixy1YrqO"
      },
      "source": [
        "svc_hyper = model_tuned.best_estimator_"
      ],
      "execution_count": null,
      "outputs": []
    },
    {
      "cell_type": "code",
      "metadata": {
        "id": "q6dumXIjEt_u"
      },
      "source": [
        "svc_hyper = SVC(C= 2, gamma= 0.001)"
      ],
      "execution_count": null,
      "outputs": []
    },
    {
      "cell_type": "code",
      "metadata": {
        "colab": {
          "base_uri": "https://localhost:8080/"
        },
        "id": "xojHIuBjYm5A",
        "outputId": "a5e9823b-b982-4307-8def-e8537538a511"
      },
      "source": [
        "%%time\n",
        "model_fit_predict(svc_hyper)"
      ],
      "execution_count": null,
      "outputs": [
        {
          "output_type": "stream",
          "text": [
            "       Accuracy\n",
            "Train   0.69996\n",
            "Test    0.52799\n",
            "CPU times: user 43 s, sys: 60.2 ms, total: 43 s\n",
            "Wall time: 42.9 s\n"
          ],
          "name": "stdout"
        }
      ]
    },
    {
      "cell_type": "markdown",
      "metadata": {
        "id": "f1eYCEOZleVS"
      },
      "source": [
        "# Tensorflow keras"
      ]
    },
    {
      "cell_type": "code",
      "metadata": {
        "colab": {
          "base_uri": "https://localhost:8080/"
        },
        "id": "9vckP1SXs6qe",
        "outputId": "683ee157-76b6-40e2-f3cd-415f29611952"
      },
      "source": [
        "!nvidia-smi"
      ],
      "execution_count": null,
      "outputs": [
        {
          "output_type": "stream",
          "text": [
            "Tue May 25 13:28:14 2021       \n",
            "+-----------------------------------------------------------------------------+\n",
            "| NVIDIA-SMI 465.19.01    Driver Version: 460.32.03    CUDA Version: 11.2     |\n",
            "|-------------------------------+----------------------+----------------------+\n",
            "| GPU  Name        Persistence-M| Bus-Id        Disp.A | Volatile Uncorr. ECC |\n",
            "| Fan  Temp  Perf  Pwr:Usage/Cap|         Memory-Usage | GPU-Util  Compute M. |\n",
            "|                               |                      |               MIG M. |\n",
            "|===============================+======================+======================|\n",
            "|   0  Tesla T4            Off  | 00000000:00:04.0 Off |                    0 |\n",
            "| N/A   63C    P8    11W /  70W |      0MiB / 15109MiB |      0%      Default |\n",
            "|                               |                      |                  N/A |\n",
            "+-------------------------------+----------------------+----------------------+\n",
            "                                                                               \n",
            "+-----------------------------------------------------------------------------+\n",
            "| Processes:                                                                  |\n",
            "|  GPU   GI   CI        PID   Type   Process name                  GPU Memory |\n",
            "|        ID   ID                                                   Usage      |\n",
            "|=============================================================================|\n",
            "|  No running processes found                                                 |\n",
            "+-----------------------------------------------------------------------------+\n"
          ],
          "name": "stdout"
        }
      ]
    },
    {
      "cell_type": "code",
      "metadata": {
        "id": "c_KmVtP3lg9d"
      },
      "source": [
        "!pip install tensorflow-gpu"
      ],
      "execution_count": null,
      "outputs": []
    },
    {
      "cell_type": "code",
      "metadata": {
        "id": "2N-1xkpMloPP"
      },
      "source": [
        "import tensorflow as tf\n",
        "import keras\n",
        "from keras.models import Sequential\n",
        "from keras.layers import Dense, Dropout, Flatten\n",
        "from keras.layers import Conv2D, MaxPooling2D\n",
        "#from keras.utils import to_categorical\n",
        "from keras.preprocessing import image\n",
        "import matplotlib.pyplot as plt\n",
        "from sklearn.model_selection import train_test_split\n",
        "from tqdm import tqdm\n",
        "%matplotlib inline"
      ],
      "execution_count": null,
      "outputs": []
    },
    {
      "cell_type": "code",
      "metadata": {
        "id": "brnhL6cImi78"
      },
      "source": [
        "Train_path = '/content/drive/MyDrive/Train_Images/'\n",
        "valid_path = '/content/drive/MyDrive/Test_Images/'"
      ],
      "execution_count": null,
      "outputs": []
    },
    {
      "cell_type": "code",
      "metadata": {
        "colab": {
          "base_uri": "https://localhost:8080/"
        },
        "id": "EgKGG2qJRavf",
        "outputId": "c696f76e-27ca-44bd-cb38-8271a2d2c1ec"
      },
      "source": [
        "train_image = []\n",
        "for i in tqdm(range(df_TrainSorted.shape[0])):\n",
        "    img = image.load_img(Train_path+df_TrainSorted.loc[i,'label'],target_size=(224,224,3))\n",
        "    img = image.img_to_array(img)\n",
        "    img = img/255\n",
        "    train_image.append(img)\n",
        "X = np.array(train_image)"
      ],
      "execution_count": null,
      "outputs": [
        {
          "output_type": "stream",
          "text": [
            "100%|██████████| 5983/5983 [00:10<00:00, 549.56it/s]\n"
          ],
          "name": "stderr"
        }
      ]
    },
    {
      "cell_type": "code",
      "metadata": {
        "colab": {
          "base_uri": "https://localhost:8080/"
        },
        "id": "uHJyYdC9RM0e",
        "outputId": "c5f1883f-e499-43c7-c4f1-460bf24ec5f5"
      },
      "source": [
        "X.shape"
      ],
      "execution_count": null,
      "outputs": [
        {
          "output_type": "execute_result",
          "data": {
            "text/plain": [
              "(5983, 224, 224, 3)"
            ]
          },
          "metadata": {
            "tags": []
          },
          "execution_count": 17
        }
      ]
    },
    {
      "cell_type": "code",
      "metadata": {
        "colab": {
          "base_uri": "https://localhost:8080/",
          "height": 287
        },
        "id": "sneebozOTYWs",
        "outputId": "75d8352e-87fb-4538-cc9f-382259918378"
      },
      "source": [
        "plt.imshow(X[2001])"
      ],
      "execution_count": null,
      "outputs": [
        {
          "output_type": "execute_result",
          "data": {
            "text/plain": [
              "<matplotlib.image.AxesImage at 0x7fe1b5b9af90>"
            ]
          },
          "metadata": {
            "tags": []
          },
          "execution_count": 15
        },
        {
          "output_type": "display_data",
          "data": {
            "image/png": "[encoded data removed]",
            "text/plain": [
              "<Figure size 432x288 with 1 Axes>"
            ]
          },
          "metadata": {
            "tags": [],
            "needs_background": "light"
          }
        }
      ]
    },
    {
      "cell_type": "code",
      "metadata": {
        "colab": {
          "base_uri": "https://localhost:8080/",
          "height": 35
        },
        "id": "lQkrqcQKYGMT",
        "outputId": "e3ee03f8-5327-4976-a381-8de477d8fc25"
      },
      "source": [
        "df_TrainSorted.loc[2001,'Class_label']"
      ],
      "execution_count": null,
      "outputs": [
        {
          "output_type": "execute_result",
          "data": {
            "application/vnd.google.colaboratory.intrinsic+json": {
              "type": "string"
            },
            "text/plain": [
              "'Food'"
            ]
          },
          "metadata": {
            "tags": []
          },
          "execution_count": 15
        }
      ]
    },
    {
      "cell_type": "code",
      "metadata": {
        "colab": {
          "base_uri": "https://localhost:8080/",
          "height": 202
        },
        "id": "EwtGBxsAozlB",
        "outputId": "697b5043-c1bd-48ad-af56-6005f66891ab"
      },
      "source": [
        "df_TrainSorted['Class_label'] = df_TrainSorted['Class_label'].astype('category')\n",
        "df_TrainSorted['Class_label_Cat'] = df_TrainSorted['Class_label'].cat.codes\n",
        "df_TrainSorted.head()"
      ],
      "execution_count": null,
      "outputs": [
        {
          "output_type": "execute_result",
          "data": {
            "text/html": [
              "<div>\n",
              "<style scoped>\n",
              "    .dataframe tbody tr th:only-of-type {\n",
              "        vertical-align: middle;\n",
              "    }\n",
              "\n",
              "    .dataframe tbody tr th {\n",
              "        vertical-align: top;\n",
              "    }\n",
              "\n",
              "    .dataframe thead th {\n",
              "        text-align: right;\n",
              "    }\n",
              "</style>\n",
              "<table border=\"1\" class=\"dataframe\">\n",
              "  <thead>\n",
              "    <tr style=\"text-align: right;\">\n",
              "      <th></th>\n",
              "      <th>label</th>\n",
              "      <th>Class_label</th>\n",
              "      <th>Class_label_Cat</th>\n",
              "    </tr>\n",
              "  </thead>\n",
              "  <tbody>\n",
              "    <tr>\n",
              "      <th>0</th>\n",
              "      <td>image471.jpg</td>\n",
              "      <td>misc</td>\n",
              "      <td>3</td>\n",
              "    </tr>\n",
              "    <tr>\n",
              "      <th>1</th>\n",
              "      <td>image8531.jpg</td>\n",
              "      <td>Attire</td>\n",
              "      <td>0</td>\n",
              "    </tr>\n",
              "    <tr>\n",
              "      <th>2</th>\n",
              "      <td>image7497.jpg</td>\n",
              "      <td>misc</td>\n",
              "      <td>3</td>\n",
              "    </tr>\n",
              "    <tr>\n",
              "      <th>3</th>\n",
              "      <td>image405.jpg</td>\n",
              "      <td>misc</td>\n",
              "      <td>3</td>\n",
              "    </tr>\n",
              "    <tr>\n",
              "      <th>4</th>\n",
              "      <td>image4427.jpg</td>\n",
              "      <td>misc</td>\n",
              "      <td>3</td>\n",
              "    </tr>\n",
              "  </tbody>\n",
              "</table>\n",
              "</div>"
            ],
            "text/plain": [
              "           label Class_label  Class_label_Cat\n",
              "0   image471.jpg        misc                3\n",
              "1  image8531.jpg      Attire                0\n",
              "2  image7497.jpg        misc                3\n",
              "3   image405.jpg        misc                3\n",
              "4  image4427.jpg        misc                3"
            ]
          },
          "metadata": {
            "tags": []
          },
          "execution_count": 14
        }
      ]
    },
    {
      "cell_type": "code",
      "metadata": {
        "colab": {
          "base_uri": "https://localhost:8080/",
          "height": 202
        },
        "id": "iaWsAneMdEUu",
        "outputId": "0299c0c9-9409-46a7-b6a9-d71e9a041ad8"
      },
      "source": [
        "df_TrainSorted['Class_label'] = df_TrainSorted['Class_label'].astype('category')\n",
        "df_keras = pd.get_dummies(df_TrainSorted['Class_label'])\n",
        "df_keras.head()"
      ],
      "execution_count": null,
      "outputs": [
        {
          "output_type": "execute_result",
          "data": {
            "text/html": [
              "<div>\n",
              "<style scoped>\n",
              "    .dataframe tbody tr th:only-of-type {\n",
              "        vertical-align: middle;\n",
              "    }\n",
              "\n",
              "    .dataframe tbody tr th {\n",
              "        vertical-align: top;\n",
              "    }\n",
              "\n",
              "    .dataframe thead th {\n",
              "        text-align: right;\n",
              "    }\n",
              "</style>\n",
              "<table border=\"1\" class=\"dataframe\">\n",
              "  <thead>\n",
              "    <tr style=\"text-align: right;\">\n",
              "      <th></th>\n",
              "      <th>Attire</th>\n",
              "      <th>Decorationandsignage</th>\n",
              "      <th>Food</th>\n",
              "      <th>misc</th>\n",
              "    </tr>\n",
              "  </thead>\n",
              "  <tbody>\n",
              "    <tr>\n",
              "      <th>0</th>\n",
              "      <td>0</td>\n",
              "      <td>0</td>\n",
              "      <td>0</td>\n",
              "      <td>1</td>\n",
              "    </tr>\n",
              "    <tr>\n",
              "      <th>1</th>\n",
              "      <td>1</td>\n",
              "      <td>0</td>\n",
              "      <td>0</td>\n",
              "      <td>0</td>\n",
              "    </tr>\n",
              "    <tr>\n",
              "      <th>2</th>\n",
              "      <td>0</td>\n",
              "      <td>0</td>\n",
              "      <td>0</td>\n",
              "      <td>1</td>\n",
              "    </tr>\n",
              "    <tr>\n",
              "      <th>3</th>\n",
              "      <td>0</td>\n",
              "      <td>0</td>\n",
              "      <td>0</td>\n",
              "      <td>1</td>\n",
              "    </tr>\n",
              "    <tr>\n",
              "      <th>4</th>\n",
              "      <td>0</td>\n",
              "      <td>0</td>\n",
              "      <td>0</td>\n",
              "      <td>1</td>\n",
              "    </tr>\n",
              "  </tbody>\n",
              "</table>\n",
              "</div>"
            ],
            "text/plain": [
              "   Attire  Decorationandsignage  Food  misc\n",
              "0       0                     0     0     1\n",
              "1       1                     0     0     0\n",
              "2       0                     0     0     1\n",
              "3       0                     0     0     1\n",
              "4       0                     0     0     1"
            ]
          },
          "metadata": {
            "tags": []
          },
          "execution_count": 18
        }
      ]
    },
    {
      "cell_type": "code",
      "metadata": {
        "colab": {
          "base_uri": "https://localhost:8080/"
        },
        "id": "ayJ4L9ejb15j",
        "outputId": "8e8d6da6-acae-4c34-9edf-064b4c21e4f7"
      },
      "source": [
        "y = np.array(df_keras)\n",
        "y.shape"
      ],
      "execution_count": null,
      "outputs": [
        {
          "output_type": "execute_result",
          "data": {
            "text/plain": [
              "(5983, 4)"
            ]
          },
          "metadata": {
            "tags": []
          },
          "execution_count": 19
        }
      ]
    },
    {
      "cell_type": "code",
      "metadata": {
        "id": "yf71hIsocV6q"
      },
      "source": [
        "X_train, X_test, y_train, y_test = train_test_split(X, y, random_state=42, test_size=0.25)"
      ],
      "execution_count": null,
      "outputs": []
    },
    {
      "cell_type": "code",
      "metadata": {
        "id": "ClpncbofLvLG"
      },
      "source": [
        "model = Sequential()\n",
        "model.add(Conv2D(filters=32, kernel_size=3, activation=\"relu\", input_shape=(224,224,3)))\n",
        "model.add(MaxPooling2D(pool_size=(2, 2)))\n",
        "#model.add(Dropout(0.25))\n",
        "\n",
        "model.add(Conv2D(filters=62, kernel_size=3, activation='relu'))\n",
        "model.add(MaxPooling2D(pool_size=(2, 2)))\n",
        "#model.add(Dropout(0.25))\n",
        "\n",
        "\n",
        "model.add(Conv2D(filters=128, kernel_size=3, activation=\"relu\"))\n",
        "model.add(Conv2D(filters=128, kernel_size=3, activation=\"relu\"))\n",
        "model.add(MaxPooling2D(pool_size=(2, 2)))\n",
        "#model.add(Dropout(0.25))\n",
        "\n",
        "model.add(Conv2D(filters=256, kernel_size=3, activation=\"relu\"))\n",
        "model.add(Conv2D(filters=256, kernel_size=3, activation=\"relu\"))\n",
        "model.add(MaxPooling2D(pool_size=(2, 2)))\n",
        "\n",
        "model.add(Conv2D(filters=512, kernel_size=3, activation=\"relu\"))\n",
        "model.add(Conv2D(filters=512, kernel_size=3, activation=\"relu\"))\n",
        "model.add(Conv2D(filters=512, kernel_size=3, activation=\"relu\"))\n",
        "model.add(MaxPooling2D(pool_size=(2, 2)))\n",
        "\n",
        "#model.add(Conv2D(filters=64, kernel_size=(5, 5), activation='relu'))\n",
        "#model.add(MaxPooling2D(pool_size=(2, 2)))\n",
        "#model.add(Dropout(0.25))\n",
        "\n",
        "model.add(Flatten())\n",
        "#model.add(Dense(128, activation='relu'))\n",
        "#model.add(Dropout(0.5))\n",
        "\n",
        "#model.add(Dense(64, activation='relu'))\n",
        "#model.add(Dropout(0.5))\n",
        "\n",
        "model.add(Dense(1024,activation='relu'))\n",
        "model.add(Dense(1024,activation='relu'))\n",
        "model.add(Dense(4,activation='softmax'))"
      ],
      "execution_count": null,
      "outputs": []
    },
    {
      "cell_type": "code",
      "metadata": {
        "colab": {
          "base_uri": "https://localhost:8080/"
        },
        "id": "u0gJMKQWXXL-",
        "outputId": "61b50acf-ee7b-4edc-dfa5-3b299b97f353"
      },
      "source": [
        "model.summary()"
      ],
      "execution_count": null,
      "outputs": [
        {
          "output_type": "stream",
          "text": [
            "Model: \"sequential_2\"\n",
            "_________________________________________________________________\n",
            "Layer (type)                 Output Shape              Param #   \n",
            "=================================================================\n",
            "conv2d_13 (Conv2D)           (None, 222, 222, 32)      896       \n",
            "_________________________________________________________________\n",
            "max_pooling2d_8 (MaxPooling2 (None, 111, 111, 32)      0         \n",
            "_________________________________________________________________\n",
            "conv2d_14 (Conv2D)           (None, 109, 109, 62)      17918     \n",
            "_________________________________________________________________\n",
            "max_pooling2d_9 (MaxPooling2 (None, 54, 54, 62)        0         \n",
            "_________________________________________________________________\n",
            "conv2d_15 (Conv2D)           (None, 52, 52, 128)       71552     \n",
            "_________________________________________________________________\n",
            "conv2d_16 (Conv2D)           (None, 50, 50, 128)       147584    \n",
            "_________________________________________________________________\n",
            "max_pooling2d_10 (MaxPooling (None, 25, 25, 128)       0         \n",
            "_________________________________________________________________\n",
            "conv2d_17 (Conv2D)           (None, 23, 23, 256)       295168    \n",
            "_________________________________________________________________\n",
            "conv2d_18 (Conv2D)           (None, 21, 21, 256)       590080    \n",
            "_________________________________________________________________\n",
            "max_pooling2d_11 (MaxPooling (None, 10, 10, 256)       0         \n",
            "_________________________________________________________________\n",
            "conv2d_19 (Conv2D)           (None, 8, 8, 512)         1180160   \n",
            "_________________________________________________________________\n",
            "conv2d_20 (Conv2D)           (None, 6, 6, 512)         2359808   \n",
            "_________________________________________________________________\n",
            "conv2d_21 (Conv2D)           (None, 4, 4, 512)         2359808   \n",
            "_________________________________________________________________\n",
            "max_pooling2d_12 (MaxPooling (None, 2, 2, 512)         0         \n",
            "_________________________________________________________________\n",
            "flatten_2 (Flatten)          (None, 2048)              0         \n",
            "_________________________________________________________________\n",
            "dense_6 (Dense)              (None, 1024)              2098176   \n",
            "_________________________________________________________________\n",
            "dense_7 (Dense)              (None, 1024)              1049600   \n",
            "_________________________________________________________________\n",
            "dense_8 (Dense)              (None, 4)                 4100      \n",
            "=================================================================\n",
            "Total params: 10,174,850\n",
            "Trainable params: 10,174,850\n",
            "Non-trainable params: 0\n",
            "_________________________________________________________________\n"
          ],
          "name": "stdout"
        }
      ]
    },
    {
      "cell_type": "code",
      "metadata": {
        "id": "li_mSOk6XhrE"
      },
      "source": [
        "model.compile(optimizer='adam', loss='categorical_crossentropy', metrics=['accuracy'])"
      ],
      "execution_count": null,
      "outputs": []
    },
    {
      "cell_type": "code",
      "metadata": {
        "colab": {
          "base_uri": "https://localhost:8080/"
        },
        "id": "R49uvUUeXld7",
        "outputId": "a15e6f7a-7f77-448d-f7d8-0ac1c3b85737"
      },
      "source": [
        "%%time\n",
        "model.fit(X_train, y_train, epochs=10, validation_data=(X_test, y_test))#, batch_size=32)"
      ],
      "execution_count": null,
      "outputs": [
        {
          "output_type": "stream",
          "text": [
            "Epoch 1/10\n",
            " 12/141 [=>............................] - ETA: 11:55 - loss: 1.4341 - accuracy: 0.2889"
          ],
          "name": "stdout"
        }
      ]
    },
    {
      "cell_type": "markdown",
      "metadata": {
        "id": "aLhJyOgNtf3B"
      },
      "source": [
        "# Prediction"
      ]
    },
    {
      "cell_type": "code",
      "metadata": {
        "id": "SJeCKtd6tekK"
      },
      "source": [
        "test_path = '/content/drive/MyDrive/Test_Images/'"
      ],
      "execution_count": null,
      "outputs": []
    },
    {
      "cell_type": "code",
      "metadata": {
        "colab": {
          "resources": {
            "http://localhost:8080/nbextensions/google.colab/files.js": {
              "data": "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",
              "ok": true,
              "headers": [
                [
                  "content-type",
                  "application/javascript"
                ]
              ],
              "status": 200,
              "status_text": ""
            }
          },
          "base_uri": "https://localhost:8080/",
          "height": 258
        },
        "id": "mVrEv2B0tqjR",
        "outputId": "35202df1-7c29-468f-d0f6-7bac1a3c7eb3"
      },
      "source": [
        "test = files.upload()\n",
        "df_test = pd.read_csv('test.csv')\n",
        "df_test.head()"
      ],
      "execution_count": null,
      "outputs": [
        {
          "output_type": "display_data",
          "data": {
            "text/html": [
              "\n",
              "     <input type=\"file\" id=\"files-cc07be9b-b70f-4731-b9fb-bcd3fe89ee30\" name=\"files[]\" multiple disabled\n",
              "        style=\"border:none\" />\n",
              "     <output id=\"result-cc07be9b-b70f-4731-b9fb-bcd3fe89ee30\">\n",
              "      Upload widget is only available when the cell has been executed in the\n",
              "      current browser session. Please rerun this cell to enable.\n",
              "      </output>\n",
              "      <script src=\"/nbextensions/google.colab/files.js\"></script> "
            ],
            "text/plain": [
              "<IPython.core.display.HTML object>"
            ]
          },
          "metadata": {
            "tags": []
          }
        },
        {
          "output_type": "stream",
          "text": [
            "Saving test.csv to test.csv\n"
          ],
          "name": "stdout"
        },
        {
          "output_type": "execute_result",
          "data": {
            "text/html": [
              "<div>\n",
              "<style scoped>\n",
              "    .dataframe tbody tr th:only-of-type {\n",
              "        vertical-align: middle;\n",
              "    }\n",
              "\n",
              "    .dataframe tbody tr th {\n",
              "        vertical-align: top;\n",
              "    }\n",
              "\n",
              "    .dataframe thead th {\n",
              "        text-align: right;\n",
              "    }\n",
              "</style>\n",
              "<table border=\"1\" class=\"dataframe\">\n",
              "  <thead>\n",
              "    <tr style=\"text-align: right;\">\n",
              "      <th></th>\n",
              "      <th>Image</th>\n",
              "    </tr>\n",
              "  </thead>\n",
              "  <tbody>\n",
              "    <tr>\n",
              "      <th>0</th>\n",
              "      <td>image6245.jpg</td>\n",
              "    </tr>\n",
              "    <tr>\n",
              "      <th>1</th>\n",
              "      <td>image10409.jpg</td>\n",
              "    </tr>\n",
              "    <tr>\n",
              "      <th>2</th>\n",
              "      <td>image8692.jpg</td>\n",
              "    </tr>\n",
              "    <tr>\n",
              "      <th>3</th>\n",
              "      <td>image10517.jpg</td>\n",
              "    </tr>\n",
              "    <tr>\n",
              "      <th>4</th>\n",
              "      <td>image2580.jpg</td>\n",
              "    </tr>\n",
              "  </tbody>\n",
              "</table>\n",
              "</div>"
            ],
            "text/plain": [
              "            Image\n",
              "0   image6245.jpg\n",
              "1  image10409.jpg\n",
              "2   image8692.jpg\n",
              "3  image10517.jpg\n",
              "4   image2580.jpg"
            ]
          },
          "metadata": {
            "tags": []
          },
          "execution_count": 30
        }
      ]
    },
    {
      "cell_type": "code",
      "metadata": {
        "colab": {
          "base_uri": "https://localhost:8080/"
        },
        "id": "HQW0gsexwqNC",
        "outputId": "f2e9a14b-4bd5-410c-ccb8-708e03cbf371"
      },
      "source": [
        "test_img_label=[]\n",
        "for img in glob.glob(test_path+\"*.jpg\"):\n",
        "  label = img.title().lower().split('/')\n",
        "  if label not in test_img_label:\n",
        "      test_img_label.append(label[5])\n",
        "  else:\n",
        "      print(label[5])\n",
        "print(len(test_img_label)) "
      ],
      "execution_count": null,
      "outputs": [
        {
          "output_type": "stream",
          "text": [
            "3219\n"
          ],
          "name": "stdout"
        }
      ]
    },
    {
      "cell_type": "code",
      "metadata": {
        "id": "OfMnmH2Iw0X3"
      },
      "source": [
        "df_test_sort = pd.DataFrame({'label':test_img_label})\n",
        "df_new_test = pd.concat([df_test,df_test_sort],axis=1)\n",
        "#df_sortTest=df_new_test.set_index('Image')"
      ],
      "execution_count": null,
      "outputs": []
    },
    {
      "cell_type": "code",
      "metadata": {
        "colab": {
          "base_uri": "https://localhost:8080/",
          "height": 202
        },
        "id": "qE1nMaKLxPZN",
        "outputId": "29455636-2ddb-4941-b15c-37e70d438660"
      },
      "source": [
        "df_new_test.head()"
      ],
      "execution_count": null,
      "outputs": [
        {
          "output_type": "execute_result",
          "data": {
            "text/html": [
              "<div>\n",
              "<style scoped>\n",
              "    .dataframe tbody tr th:only-of-type {\n",
              "        vertical-align: middle;\n",
              "    }\n",
              "\n",
              "    .dataframe tbody tr th {\n",
              "        vertical-align: top;\n",
              "    }\n",
              "\n",
              "    .dataframe thead th {\n",
              "        text-align: right;\n",
              "    }\n",
              "</style>\n",
              "<table border=\"1\" class=\"dataframe\">\n",
              "  <thead>\n",
              "    <tr style=\"text-align: right;\">\n",
              "      <th></th>\n",
              "      <th>Image</th>\n",
              "      <th>label</th>\n",
              "    </tr>\n",
              "  </thead>\n",
              "  <tbody>\n",
              "    <tr>\n",
              "      <th>0</th>\n",
              "      <td>image6245.jpg</td>\n",
              "      <td>image8412.jpg</td>\n",
              "    </tr>\n",
              "    <tr>\n",
              "      <th>1</th>\n",
              "      <td>image10409.jpg</td>\n",
              "      <td>image3028.jpg</td>\n",
              "    </tr>\n",
              "    <tr>\n",
              "      <th>2</th>\n",
              "      <td>image8692.jpg</td>\n",
              "      <td>image7050.jpg</td>\n",
              "    </tr>\n",
              "    <tr>\n",
              "      <th>3</th>\n",
              "      <td>image10517.jpg</td>\n",
              "      <td>image9836.jpg</td>\n",
              "    </tr>\n",
              "    <tr>\n",
              "      <th>4</th>\n",
              "      <td>image2580.jpg</td>\n",
              "      <td>image8267.jpg</td>\n",
              "    </tr>\n",
              "  </tbody>\n",
              "</table>\n",
              "</div>"
            ],
            "text/plain": [
              "            Image          label\n",
              "0   image6245.jpg  image8412.jpg\n",
              "1  image10409.jpg  image3028.jpg\n",
              "2   image8692.jpg  image7050.jpg\n",
              "3  image10517.jpg  image9836.jpg\n",
              "4   image2580.jpg  image8267.jpg"
            ]
          },
          "metadata": {
            "tags": []
          },
          "execution_count": 34
        }
      ]
    },
    {
      "cell_type": "code",
      "metadata": {
        "colab": {
          "base_uri": "https://localhost:8080/"
        },
        "id": "JNJYInGoxQU4",
        "outputId": "085cc631-ab61-4bb6-f06a-0ad4b32c4fb6"
      },
      "source": [
        "data_test=[]\n",
        "i=0\n",
        "count=[]\n",
        "for img in os.listdir(test_path):\n",
        "  imgpath = os.path.join(test_path,img)\n",
        "  img_array=imread(imgpath)\n",
        "  img_resized=resize(img_array,(50,50,3))\n",
        "  image_flat=np.array(img_resized).flatten()\n",
        "  image_flat = image_flat\n",
        "  if (len(image_flat)) == 7500:\n",
        "    data_test.append(image_flat)\n",
        "  else:\n",
        "    print(len(image_flat))\n",
        "    count.append(i)\n",
        "  i=i+1\n",
        "print(len(count))\n",
        "print(len(data_test))"
      ],
      "execution_count": null,
      "outputs": [
        {
          "output_type": "stream",
          "text": [
            "0\n",
            "3219\n"
          ],
          "name": "stdout"
        }
      ]
    },
    {
      "cell_type": "code",
      "metadata": {
        "colab": {
          "base_uri": "https://localhost:8080/"
        },
        "id": "c2zHRSXm9xig",
        "outputId": "4c4e841b-c703-4315-db09-1ad8e5cb4169"
      },
      "source": [
        "pick_in = open('data_test.pickle','wb') \n",
        "pickle.dump(data,pick_in)\n",
        "pick_in.close"
      ],
      "execution_count": null,
      "outputs": [
        {
          "output_type": "execute_result",
          "data": {
            "text/plain": [
              "<function BufferedWriter.close>"
            ]
          },
          "metadata": {
            "tags": []
          },
          "execution_count": 45
        }
      ]
    },
    {
      "cell_type": "code",
      "metadata": {
        "id": "ovBVbpumx17F"
      },
      "source": [
        "df_test_pca = pd.DataFrame(data_test)"
      ],
      "execution_count": null,
      "outputs": []
    },
    {
      "cell_type": "code",
      "metadata": {
        "colab": {
          "base_uri": "https://localhost:8080/",
          "height": 251
        },
        "id": "4k4DGrOiK2yi",
        "outputId": "b972e9d2-f453-4654-d6ec-fb1d269186b7"
      },
      "source": [
        "df_test_pca.head()"
      ],
      "execution_count": null,
      "outputs": [
        {
          "output_type": "execute_result",
          "data": {
            "text/html": [
              "<div>\n",
              "<style scoped>\n",
              "    .dataframe tbody tr th:only-of-type {\n",
              "        vertical-align: middle;\n",
              "    }\n",
              "\n",
              "    .dataframe tbody tr th {\n",
              "        vertical-align: top;\n",
              "    }\n",
              "\n",
              "    .dataframe thead th {\n",
              "        text-align: right;\n",
              "    }\n",
              "</style>\n",
              "<table border=\"1\" class=\"dataframe\">\n",
              "  <thead>\n",
              "    <tr style=\"text-align: right;\">\n",
              "      <th></th>\n",
              "      <th>0</th>\n",
              "      <th>1</th>\n",
              "      <th>2</th>\n",
              "      <th>3</th>\n",
              "      <th>4</th>\n",
              "      <th>5</th>\n",
              "      <th>6</th>\n",
              "      <th>7</th>\n",
              "      <th>8</th>\n",
              "      <th>9</th>\n",
              "      <th>10</th>\n",
              "      <th>11</th>\n",
              "      <th>12</th>\n",
              "      <th>13</th>\n",
              "      <th>14</th>\n",
              "      <th>15</th>\n",
              "      <th>16</th>\n",
              "      <th>17</th>\n",
              "      <th>18</th>\n",
              "      <th>19</th>\n",
              "      <th>20</th>\n",
              "      <th>21</th>\n",
              "      <th>22</th>\n",
              "      <th>23</th>\n",
              "      <th>24</th>\n",
              "      <th>25</th>\n",
              "      <th>26</th>\n",
              "      <th>27</th>\n",
              "      <th>28</th>\n",
              "      <th>29</th>\n",
              "      <th>30</th>\n",
              "      <th>31</th>\n",
              "      <th>32</th>\n",
              "      <th>33</th>\n",
              "      <th>34</th>\n",
              "      <th>35</th>\n",
              "      <th>36</th>\n",
              "      <th>37</th>\n",
              "      <th>38</th>\n",
              "      <th>39</th>\n",
              "      <th>...</th>\n",
              "      <th>7460</th>\n",
              "      <th>7461</th>\n",
              "      <th>7462</th>\n",
              "      <th>7463</th>\n",
              "      <th>7464</th>\n",
              "      <th>7465</th>\n",
              "      <th>7466</th>\n",
              "      <th>7467</th>\n",
              "      <th>7468</th>\n",
              "      <th>7469</th>\n",
              "      <th>7470</th>\n",
              "      <th>7471</th>\n",
              "      <th>7472</th>\n",
              "      <th>7473</th>\n",
              "      <th>7474</th>\n",
              "      <th>7475</th>\n",
              "      <th>7476</th>\n",
              "      <th>7477</th>\n",
              "      <th>7478</th>\n",
              "      <th>7479</th>\n",
              "      <th>7480</th>\n",
              "      <th>7481</th>\n",
              "      <th>7482</th>\n",
              "      <th>7483</th>\n",
              "      <th>7484</th>\n",
              "      <th>7485</th>\n",
              "      <th>7486</th>\n",
              "      <th>7487</th>\n",
              "      <th>7488</th>\n",
              "      <th>7489</th>\n",
              "      <th>7490</th>\n",
              "      <th>7491</th>\n",
              "      <th>7492</th>\n",
              "      <th>7493</th>\n",
              "      <th>7494</th>\n",
              "      <th>7495</th>\n",
              "      <th>7496</th>\n",
              "      <th>7497</th>\n",
              "      <th>7498</th>\n",
              "      <th>7499</th>\n",
              "    </tr>\n",
              "  </thead>\n",
              "  <tbody>\n",
              "    <tr>\n",
              "      <th>0</th>\n",
              "      <td>0.699490</td>\n",
              "      <td>0.633059</td>\n",
              "      <td>0.604549</td>\n",
              "      <td>0.284549</td>\n",
              "      <td>0.228549</td>\n",
              "      <td>0.180275</td>\n",
              "      <td>0.191765</td>\n",
              "      <td>0.155490</td>\n",
              "      <td>0.113137</td>\n",
              "      <td>0.588745</td>\n",
              "      <td>0.565176</td>\n",
              "      <td>0.461725</td>\n",
              "      <td>0.613647</td>\n",
              "      <td>0.598196</td>\n",
              "      <td>0.473647</td>\n",
              "      <td>0.636471</td>\n",
              "      <td>0.617529</td>\n",
              "      <td>0.484980</td>\n",
              "      <td>0.275765</td>\n",
              "      <td>0.240824</td>\n",
              "      <td>0.126392</td>\n",
              "      <td>0.369804</td>\n",
              "      <td>0.308824</td>\n",
              "      <td>0.219216</td>\n",
              "      <td>0.875843</td>\n",
              "      <td>0.793451</td>\n",
              "      <td>0.728706</td>\n",
              "      <td>0.876235</td>\n",
              "      <td>0.783961</td>\n",
              "      <td>0.734941</td>\n",
              "      <td>0.836471</td>\n",
              "      <td>0.806275</td>\n",
              "      <td>0.737137</td>\n",
              "      <td>0.840000</td>\n",
              "      <td>0.812549</td>\n",
              "      <td>0.745882</td>\n",
              "      <td>0.840392</td>\n",
              "      <td>0.816863</td>\n",
              "      <td>0.758039</td>\n",
              "      <td>0.844353</td>\n",
              "      <td>...</td>\n",
              "      <td>0.472392</td>\n",
              "      <td>0.633333</td>\n",
              "      <td>0.491961</td>\n",
              "      <td>0.456078</td>\n",
              "      <td>0.618078</td>\n",
              "      <td>0.476000</td>\n",
              "      <td>0.419529</td>\n",
              "      <td>0.623412</td>\n",
              "      <td>0.476745</td>\n",
              "      <td>0.407725</td>\n",
              "      <td>0.613451</td>\n",
              "      <td>0.438078</td>\n",
              "      <td>0.432941</td>\n",
              "      <td>0.544471</td>\n",
              "      <td>0.494824</td>\n",
              "      <td>0.432000</td>\n",
              "      <td>0.535882</td>\n",
              "      <td>0.457059</td>\n",
              "      <td>0.393137</td>\n",
              "      <td>0.580118</td>\n",
              "      <td>0.430392</td>\n",
              "      <td>0.387686</td>\n",
              "      <td>0.503569</td>\n",
              "      <td>0.398588</td>\n",
              "      <td>0.347490</td>\n",
              "      <td>0.500392</td>\n",
              "      <td>0.405608</td>\n",
              "      <td>0.358039</td>\n",
              "      <td>0.503765</td>\n",
              "      <td>0.381216</td>\n",
              "      <td>0.335333</td>\n",
              "      <td>0.451765</td>\n",
              "      <td>0.370980</td>\n",
              "      <td>0.271176</td>\n",
              "      <td>0.421529</td>\n",
              "      <td>0.322039</td>\n",
              "      <td>0.181529</td>\n",
              "      <td>0.524588</td>\n",
              "      <td>0.264980</td>\n",
              "      <td>0.144980</td>\n",
              "    </tr>\n",
              "    <tr>\n",
              "      <th>1</th>\n",
              "      <td>0.931000</td>\n",
              "      <td>0.802263</td>\n",
              "      <td>0.645439</td>\n",
              "      <td>0.924024</td>\n",
              "      <td>0.823392</td>\n",
              "      <td>0.643890</td>\n",
              "      <td>0.925314</td>\n",
              "      <td>0.853627</td>\n",
              "      <td>0.650725</td>\n",
              "      <td>0.930310</td>\n",
              "      <td>0.846137</td>\n",
              "      <td>0.655224</td>\n",
              "      <td>0.952588</td>\n",
              "      <td>0.856251</td>\n",
              "      <td>0.682204</td>\n",
              "      <td>0.948663</td>\n",
              "      <td>0.860000</td>\n",
              "      <td>0.678431</td>\n",
              "      <td>0.949020</td>\n",
              "      <td>0.866275</td>\n",
              "      <td>0.681961</td>\n",
              "      <td>0.952941</td>\n",
              "      <td>0.874255</td>\n",
              "      <td>0.690196</td>\n",
              "      <td>0.952941</td>\n",
              "      <td>0.882745</td>\n",
              "      <td>0.698039</td>\n",
              "      <td>0.955329</td>\n",
              "      <td>0.891408</td>\n",
              "      <td>0.700784</td>\n",
              "      <td>0.949980</td>\n",
              "      <td>0.891906</td>\n",
              "      <td>0.733188</td>\n",
              "      <td>0.981427</td>\n",
              "      <td>0.906784</td>\n",
              "      <td>0.724039</td>\n",
              "      <td>0.836863</td>\n",
              "      <td>0.738059</td>\n",
              "      <td>0.528510</td>\n",
              "      <td>0.650063</td>\n",
              "      <td>...</td>\n",
              "      <td>0.532482</td>\n",
              "      <td>0.986961</td>\n",
              "      <td>0.814157</td>\n",
              "      <td>0.516804</td>\n",
              "      <td>0.947569</td>\n",
              "      <td>0.746678</td>\n",
              "      <td>0.451031</td>\n",
              "      <td>0.983718</td>\n",
              "      <td>0.770416</td>\n",
              "      <td>0.474769</td>\n",
              "      <td>0.980216</td>\n",
              "      <td>0.779729</td>\n",
              "      <td>0.480322</td>\n",
              "      <td>0.990780</td>\n",
              "      <td>0.768325</td>\n",
              "      <td>0.468235</td>\n",
              "      <td>0.965216</td>\n",
              "      <td>0.721392</td>\n",
              "      <td>0.419510</td>\n",
              "      <td>0.959412</td>\n",
              "      <td>0.715686</td>\n",
              "      <td>0.407698</td>\n",
              "      <td>0.956310</td>\n",
              "      <td>0.727522</td>\n",
              "      <td>0.411863</td>\n",
              "      <td>0.954984</td>\n",
              "      <td>0.730945</td>\n",
              "      <td>0.417071</td>\n",
              "      <td>0.948937</td>\n",
              "      <td>0.718757</td>\n",
              "      <td>0.410443</td>\n",
              "      <td>0.908529</td>\n",
              "      <td>0.669569</td>\n",
              "      <td>0.363608</td>\n",
              "      <td>0.880376</td>\n",
              "      <td>0.633318</td>\n",
              "      <td>0.329486</td>\n",
              "      <td>0.859655</td>\n",
              "      <td>0.612596</td>\n",
              "      <td>0.305694</td>\n",
              "    </tr>\n",
              "    <tr>\n",
              "      <th>2</th>\n",
              "      <td>0.341165</td>\n",
              "      <td>0.151247</td>\n",
              "      <td>0.002663</td>\n",
              "      <td>0.341729</td>\n",
              "      <td>0.145455</td>\n",
              "      <td>0.000212</td>\n",
              "      <td>0.348059</td>\n",
              "      <td>0.139686</td>\n",
              "      <td>0.002490</td>\n",
              "      <td>0.363235</td>\n",
              "      <td>0.141992</td>\n",
              "      <td>0.012855</td>\n",
              "      <td>0.384647</td>\n",
              "      <td>0.147514</td>\n",
              "      <td>0.024569</td>\n",
              "      <td>0.381369</td>\n",
              "      <td>0.141918</td>\n",
              "      <td>0.027839</td>\n",
              "      <td>0.387937</td>\n",
              "      <td>0.148486</td>\n",
              "      <td>0.034302</td>\n",
              "      <td>0.368922</td>\n",
              "      <td>0.141294</td>\n",
              "      <td>0.026980</td>\n",
              "      <td>0.356945</td>\n",
              "      <td>0.133976</td>\n",
              "      <td>0.019400</td>\n",
              "      <td>0.359373</td>\n",
              "      <td>0.143486</td>\n",
              "      <td>0.025486</td>\n",
              "      <td>0.349290</td>\n",
              "      <td>0.137020</td>\n",
              "      <td>0.003922</td>\n",
              "      <td>0.349373</td>\n",
              "      <td>0.137020</td>\n",
              "      <td>0.003922</td>\n",
              "      <td>0.347529</td>\n",
              "      <td>0.131373</td>\n",
              "      <td>0.000176</td>\n",
              "      <td>0.346706</td>\n",
              "      <td>...</td>\n",
              "      <td>0.006282</td>\n",
              "      <td>0.054176</td>\n",
              "      <td>0.006412</td>\n",
              "      <td>0.003765</td>\n",
              "      <td>0.043494</td>\n",
              "      <td>0.003729</td>\n",
              "      <td>0.001400</td>\n",
              "      <td>0.037765</td>\n",
              "      <td>0.001529</td>\n",
              "      <td>0.000071</td>\n",
              "      <td>0.035224</td>\n",
              "      <td>0.020161</td>\n",
              "      <td>0.001141</td>\n",
              "      <td>0.038482</td>\n",
              "      <td>0.026247</td>\n",
              "      <td>0.007227</td>\n",
              "      <td>0.050569</td>\n",
              "      <td>0.034294</td>\n",
              "      <td>0.017118</td>\n",
              "      <td>0.045251</td>\n",
              "      <td>0.025055</td>\n",
              "      <td>0.010376</td>\n",
              "      <td>0.025176</td>\n",
              "      <td>0.002318</td>\n",
              "      <td>0.000000</td>\n",
              "      <td>0.025812</td>\n",
              "      <td>0.000635</td>\n",
              "      <td>0.000518</td>\n",
              "      <td>0.045298</td>\n",
              "      <td>0.010529</td>\n",
              "      <td>0.000247</td>\n",
              "      <td>0.052588</td>\n",
              "      <td>0.017176</td>\n",
              "      <td>0.000118</td>\n",
              "      <td>0.059278</td>\n",
              "      <td>0.019671</td>\n",
              "      <td>0.000388</td>\n",
              "      <td>0.069541</td>\n",
              "      <td>0.023659</td>\n",
              "      <td>0.001035</td>\n",
              "    </tr>\n",
              "    <tr>\n",
              "      <th>3</th>\n",
              "      <td>0.127569</td>\n",
              "      <td>0.122706</td>\n",
              "      <td>0.176863</td>\n",
              "      <td>0.734431</td>\n",
              "      <td>0.676275</td>\n",
              "      <td>0.795569</td>\n",
              "      <td>0.980588</td>\n",
              "      <td>0.973333</td>\n",
              "      <td>0.980980</td>\n",
              "      <td>0.933137</td>\n",
              "      <td>0.968902</td>\n",
              "      <td>0.926902</td>\n",
              "      <td>0.959725</td>\n",
              "      <td>0.963412</td>\n",
              "      <td>0.979137</td>\n",
              "      <td>0.960078</td>\n",
              "      <td>0.956235</td>\n",
              "      <td>0.944039</td>\n",
              "      <td>0.740471</td>\n",
              "      <td>0.775020</td>\n",
              "      <td>0.975333</td>\n",
              "      <td>0.655490</td>\n",
              "      <td>0.689216</td>\n",
              "      <td>0.829412</td>\n",
              "      <td>0.974196</td>\n",
              "      <td>0.987804</td>\n",
              "      <td>0.935725</td>\n",
              "      <td>0.975255</td>\n",
              "      <td>0.972588</td>\n",
              "      <td>0.976941</td>\n",
              "      <td>0.686902</td>\n",
              "      <td>0.598980</td>\n",
              "      <td>0.625843</td>\n",
              "      <td>0.323255</td>\n",
              "      <td>0.102941</td>\n",
              "      <td>0.080941</td>\n",
              "      <td>0.265490</td>\n",
              "      <td>0.126471</td>\n",
              "      <td>0.073333</td>\n",
              "      <td>0.407020</td>\n",
              "      <td>...</td>\n",
              "      <td>0.003922</td>\n",
              "      <td>0.001961</td>\n",
              "      <td>0.009804</td>\n",
              "      <td>0.005882</td>\n",
              "      <td>0.003176</td>\n",
              "      <td>0.010980</td>\n",
              "      <td>0.007059</td>\n",
              "      <td>0.000000</td>\n",
              "      <td>0.004980</td>\n",
              "      <td>0.001059</td>\n",
              "      <td>0.000000</td>\n",
              "      <td>0.000000</td>\n",
              "      <td>0.000000</td>\n",
              "      <td>0.000000</td>\n",
              "      <td>0.000000</td>\n",
              "      <td>0.000000</td>\n",
              "      <td>0.000000</td>\n",
              "      <td>0.000000</td>\n",
              "      <td>0.000000</td>\n",
              "      <td>0.000000</td>\n",
              "      <td>0.000000</td>\n",
              "      <td>0.000000</td>\n",
              "      <td>0.000000</td>\n",
              "      <td>0.000000</td>\n",
              "      <td>0.002745</td>\n",
              "      <td>0.000118</td>\n",
              "      <td>0.000000</td>\n",
              "      <td>0.006000</td>\n",
              "      <td>0.004275</td>\n",
              "      <td>0.003882</td>\n",
              "      <td>0.012902</td>\n",
              "      <td>0.031176</td>\n",
              "      <td>0.027255</td>\n",
              "      <td>0.047059</td>\n",
              "      <td>0.050275</td>\n",
              "      <td>0.046353</td>\n",
              "      <td>0.065961</td>\n",
              "      <td>0.008941</td>\n",
              "      <td>0.007765</td>\n",
              "      <td>0.027098</td>\n",
              "    </tr>\n",
              "    <tr>\n",
              "      <th>4</th>\n",
              "      <td>0.622706</td>\n",
              "      <td>0.330157</td>\n",
              "      <td>0.316392</td>\n",
              "      <td>0.622118</td>\n",
              "      <td>0.326824</td>\n",
              "      <td>0.317412</td>\n",
              "      <td>0.610196</td>\n",
              "      <td>0.309804</td>\n",
              "      <td>0.309216</td>\n",
              "      <td>0.579176</td>\n",
              "      <td>0.280471</td>\n",
              "      <td>0.287804</td>\n",
              "      <td>0.544471</td>\n",
              "      <td>0.256118</td>\n",
              "      <td>0.271098</td>\n",
              "      <td>0.531059</td>\n",
              "      <td>0.253451</td>\n",
              "      <td>0.273804</td>\n",
              "      <td>0.492392</td>\n",
              "      <td>0.226510</td>\n",
              "      <td>0.251216</td>\n",
              "      <td>0.459804</td>\n",
              "      <td>0.212353</td>\n",
              "      <td>0.240000</td>\n",
              "      <td>0.438980</td>\n",
              "      <td>0.204745</td>\n",
              "      <td>0.233765</td>\n",
              "      <td>0.416392</td>\n",
              "      <td>0.195255</td>\n",
              "      <td>0.228118</td>\n",
              "      <td>0.285176</td>\n",
              "      <td>0.199176</td>\n",
              "      <td>0.241176</td>\n",
              "      <td>0.332902</td>\n",
              "      <td>0.189922</td>\n",
              "      <td>0.247451</td>\n",
              "      <td>0.428431</td>\n",
              "      <td>0.217255</td>\n",
              "      <td>0.276667</td>\n",
              "      <td>0.500235</td>\n",
              "      <td>...</td>\n",
              "      <td>0.722627</td>\n",
              "      <td>0.822353</td>\n",
              "      <td>0.767451</td>\n",
              "      <td>0.715882</td>\n",
              "      <td>0.807843</td>\n",
              "      <td>0.757255</td>\n",
              "      <td>0.706157</td>\n",
              "      <td>0.799961</td>\n",
              "      <td>0.750157</td>\n",
              "      <td>0.696078</td>\n",
              "      <td>0.802000</td>\n",
              "      <td>0.742000</td>\n",
              "      <td>0.683176</td>\n",
              "      <td>0.806392</td>\n",
              "      <td>0.743647</td>\n",
              "      <td>0.684824</td>\n",
              "      <td>0.807451</td>\n",
              "      <td>0.743333</td>\n",
              "      <td>0.685882</td>\n",
              "      <td>0.802196</td>\n",
              "      <td>0.739451</td>\n",
              "      <td>0.680627</td>\n",
              "      <td>0.798078</td>\n",
              "      <td>0.735333</td>\n",
              "      <td>0.673765</td>\n",
              "      <td>0.824549</td>\n",
              "      <td>0.760980</td>\n",
              "      <td>0.699059</td>\n",
              "      <td>0.788902</td>\n",
              "      <td>0.726157</td>\n",
              "      <td>0.663412</td>\n",
              "      <td>0.866471</td>\n",
              "      <td>0.805686</td>\n",
              "      <td>0.733137</td>\n",
              "      <td>0.894157</td>\n",
              "      <td>0.835333</td>\n",
              "      <td>0.760824</td>\n",
              "      <td>0.874353</td>\n",
              "      <td>0.815529</td>\n",
              "      <td>0.741020</td>\n",
              "    </tr>\n",
              "  </tbody>\n",
              "</table>\n",
              "<p>5 rows × 7500 columns</p>\n",
              "</div>"
            ],
            "text/plain": [
              "       0         1         2     ...      7497      7498      7499\n",
              "0  0.699490  0.633059  0.604549  ...  0.524588  0.264980  0.144980\n",
              "1  0.931000  0.802263  0.645439  ...  0.859655  0.612596  0.305694\n",
              "2  0.341165  0.151247  0.002663  ...  0.069541  0.023659  0.001035\n",
              "3  0.127569  0.122706  0.176863  ...  0.008941  0.007765  0.027098\n",
              "4  0.622706  0.330157  0.316392  ...  0.874353  0.815529  0.741020\n",
              "\n",
              "[5 rows x 7500 columns]"
            ]
          },
          "metadata": {
            "tags": []
          },
          "execution_count": 47
        }
      ]
    },
    {
      "cell_type": "code",
      "metadata": {
        "colab": {
          "base_uri": "https://localhost:8080/"
        },
        "id": "HtMF95sMK8wd",
        "outputId": "e7e88797-1aa3-4abe-f830-36574d30895a"
      },
      "source": [
        "x_test_pca = pca.transform(df_test_pca)\n",
        "print(x_test_pca.shape)"
      ],
      "execution_count": null,
      "outputs": [
        {
          "output_type": "stream",
          "text": [
            "(3219, 454)\n"
          ],
          "name": "stdout"
        }
      ]
    },
    {
      "cell_type": "code",
      "metadata": {
        "colab": {
          "base_uri": "https://localhost:8080/",
          "height": 202
        },
        "id": "9MEXwTUEL7Ka",
        "outputId": "2a8d5729-4fea-42b1-c36b-72aee0e1c108"
      },
      "source": [
        "predictions = svc_hyper.predict(x_test_pca)\n",
        "df_new_test['predictions'] = predictions\n",
        "df_new_test.head()"
      ],
      "execution_count": null,
      "outputs": [
        {
          "output_type": "execute_result",
          "data": {
            "text/html": [
              "<div>\n",
              "<style scoped>\n",
              "    .dataframe tbody tr th:only-of-type {\n",
              "        vertical-align: middle;\n",
              "    }\n",
              "\n",
              "    .dataframe tbody tr th {\n",
              "        vertical-align: top;\n",
              "    }\n",
              "\n",
              "    .dataframe thead th {\n",
              "        text-align: right;\n",
              "    }\n",
              "</style>\n",
              "<table border=\"1\" class=\"dataframe\">\n",
              "  <thead>\n",
              "    <tr style=\"text-align: right;\">\n",
              "      <th></th>\n",
              "      <th>Image</th>\n",
              "      <th>label</th>\n",
              "      <th>predictions</th>\n",
              "    </tr>\n",
              "  </thead>\n",
              "  <tbody>\n",
              "    <tr>\n",
              "      <th>0</th>\n",
              "      <td>image6245.jpg</td>\n",
              "      <td>image8412.jpg</td>\n",
              "      <td>2</td>\n",
              "    </tr>\n",
              "    <tr>\n",
              "      <th>1</th>\n",
              "      <td>image10409.jpg</td>\n",
              "      <td>image3028.jpg</td>\n",
              "      <td>2</td>\n",
              "    </tr>\n",
              "    <tr>\n",
              "      <th>2</th>\n",
              "      <td>image8692.jpg</td>\n",
              "      <td>image7050.jpg</td>\n",
              "      <td>2</td>\n",
              "    </tr>\n",
              "    <tr>\n",
              "      <th>3</th>\n",
              "      <td>image10517.jpg</td>\n",
              "      <td>image9836.jpg</td>\n",
              "      <td>3</td>\n",
              "    </tr>\n",
              "    <tr>\n",
              "      <th>4</th>\n",
              "      <td>image2580.jpg</td>\n",
              "      <td>image8267.jpg</td>\n",
              "      <td>2</td>\n",
              "    </tr>\n",
              "  </tbody>\n",
              "</table>\n",
              "</div>"
            ],
            "text/plain": [
              "            Image          label  predictions\n",
              "0   image6245.jpg  image8412.jpg            2\n",
              "1  image10409.jpg  image3028.jpg            2\n",
              "2   image8692.jpg  image7050.jpg            2\n",
              "3  image10517.jpg  image9836.jpg            3\n",
              "4   image2580.jpg  image8267.jpg            2"
            ]
          },
          "metadata": {
            "tags": []
          },
          "execution_count": 49
        }
      ]
    },
    {
      "cell_type": "code",
      "metadata": {
        "colab": {
          "base_uri": "https://localhost:8080/",
          "height": 202
        },
        "id": "GO34XoGZML8B",
        "outputId": "b9c53f10-25c9-4d0f-eb90-7d5ccbed1c49"
      },
      "source": [
        "final_list = []\n",
        "for i in range(0,3219):\n",
        "  df_new_test.loc[i,'Class']= df_new_test.loc[df_new_test['label']==df_new_test.loc[i,'Image'],'predictions'].iloc[0]\n",
        "df_new_test.head()"
      ],
      "execution_count": null,
      "outputs": [
        {
          "output_type": "execute_result",
          "data": {
            "text/html": [
              "<div>\n",
              "<style scoped>\n",
              "    .dataframe tbody tr th:only-of-type {\n",
              "        vertical-align: middle;\n",
              "    }\n",
              "\n",
              "    .dataframe tbody tr th {\n",
              "        vertical-align: top;\n",
              "    }\n",
              "\n",
              "    .dataframe thead th {\n",
              "        text-align: right;\n",
              "    }\n",
              "</style>\n",
              "<table border=\"1\" class=\"dataframe\">\n",
              "  <thead>\n",
              "    <tr style=\"text-align: right;\">\n",
              "      <th></th>\n",
              "      <th>Image</th>\n",
              "      <th>label</th>\n",
              "      <th>predictions</th>\n",
              "      <th>Class</th>\n",
              "      <th>Class_code</th>\n",
              "    </tr>\n",
              "  </thead>\n",
              "  <tbody>\n",
              "    <tr>\n",
              "      <th>0</th>\n",
              "      <td>image6245.jpg</td>\n",
              "      <td>image8412.jpg</td>\n",
              "      <td>2</td>\n",
              "      <td>2.0</td>\n",
              "      <td>2.0</td>\n",
              "    </tr>\n",
              "    <tr>\n",
              "      <th>1</th>\n",
              "      <td>image10409.jpg</td>\n",
              "      <td>image3028.jpg</td>\n",
              "      <td>2</td>\n",
              "      <td>2.0</td>\n",
              "      <td>2.0</td>\n",
              "    </tr>\n",
              "    <tr>\n",
              "      <th>2</th>\n",
              "      <td>image8692.jpg</td>\n",
              "      <td>image7050.jpg</td>\n",
              "      <td>2</td>\n",
              "      <td>2.0</td>\n",
              "      <td>2.0</td>\n",
              "    </tr>\n",
              "    <tr>\n",
              "      <th>3</th>\n",
              "      <td>image10517.jpg</td>\n",
              "      <td>image9836.jpg</td>\n",
              "      <td>3</td>\n",
              "      <td>2.0</td>\n",
              "      <td>2.0</td>\n",
              "    </tr>\n",
              "    <tr>\n",
              "      <th>4</th>\n",
              "      <td>image2580.jpg</td>\n",
              "      <td>image8267.jpg</td>\n",
              "      <td>2</td>\n",
              "      <td>1.0</td>\n",
              "      <td>1.0</td>\n",
              "    </tr>\n",
              "  </tbody>\n",
              "</table>\n",
              "</div>"
            ],
            "text/plain": [
              "            Image          label  predictions  Class  Class_code\n",
              "0   image6245.jpg  image8412.jpg            2    2.0         2.0\n",
              "1  image10409.jpg  image3028.jpg            2    2.0         2.0\n",
              "2   image8692.jpg  image7050.jpg            2    2.0         2.0\n",
              "3  image10517.jpg  image9836.jpg            3    2.0         2.0\n",
              "4   image2580.jpg  image8267.jpg            2    1.0         1.0"
            ]
          },
          "metadata": {
            "tags": []
          },
          "execution_count": 65
        }
      ]
    },
    {
      "cell_type": "code",
      "metadata": {
        "colab": {
          "base_uri": "https://localhost:8080/"
        },
        "id": "LctXK6LoSfUq",
        "outputId": "339ae0c9-5cdf-4e05-e2d3-20d9d555fc2a"
      },
      "source": [
        "predicted_labels = []\n",
        "for i in df_new_test['Class_code'].tolist():\n",
        "  if i == 0.0:\n",
        "    predicted_labels.append('Attire')\n",
        "  elif i == 1.0:\n",
        "    predicted_labels.append('Decorationandsignage')\n",
        "  elif i == 2.0:\n",
        "    predicted_labels.append('Food')\n",
        "  elif i == 3.0:\n",
        "    predicted_labels.append('misc')\n",
        "print(len(predicted_labels))"
      ],
      "execution_count": null,
      "outputs": [
        {
          "output_type": "stream",
          "text": [
            "3219\n"
          ],
          "name": "stdout"
        }
      ]
    },
    {
      "cell_type": "code",
      "metadata": {
        "colab": {
          "base_uri": "https://localhost:8080/",
          "height": 202
        },
        "id": "RWpg73yaM6uS",
        "outputId": "190d7937-9fe7-4fe8-d8ed-63b178507793"
      },
      "source": [
        "df_new_test['Class'] = predicted_labels\n",
        "df_new_test.head()"
      ],
      "execution_count": null,
      "outputs": [
        {
          "output_type": "execute_result",
          "data": {
            "text/html": [
              "<div>\n",
              "<style scoped>\n",
              "    .dataframe tbody tr th:only-of-type {\n",
              "        vertical-align: middle;\n",
              "    }\n",
              "\n",
              "    .dataframe tbody tr th {\n",
              "        vertical-align: top;\n",
              "    }\n",
              "\n",
              "    .dataframe thead th {\n",
              "        text-align: right;\n",
              "    }\n",
              "</style>\n",
              "<table border=\"1\" class=\"dataframe\">\n",
              "  <thead>\n",
              "    <tr style=\"text-align: right;\">\n",
              "      <th></th>\n",
              "      <th>Image</th>\n",
              "      <th>label</th>\n",
              "      <th>predictions</th>\n",
              "      <th>Class</th>\n",
              "      <th>Class_code</th>\n",
              "    </tr>\n",
              "  </thead>\n",
              "  <tbody>\n",
              "    <tr>\n",
              "      <th>0</th>\n",
              "      <td>image6245.jpg</td>\n",
              "      <td>image8412.jpg</td>\n",
              "      <td>2</td>\n",
              "      <td>Food</td>\n",
              "      <td>2.0</td>\n",
              "    </tr>\n",
              "    <tr>\n",
              "      <th>1</th>\n",
              "      <td>image10409.jpg</td>\n",
              "      <td>image3028.jpg</td>\n",
              "      <td>2</td>\n",
              "      <td>Food</td>\n",
              "      <td>2.0</td>\n",
              "    </tr>\n",
              "    <tr>\n",
              "      <th>2</th>\n",
              "      <td>image8692.jpg</td>\n",
              "      <td>image7050.jpg</td>\n",
              "      <td>2</td>\n",
              "      <td>Food</td>\n",
              "      <td>2.0</td>\n",
              "    </tr>\n",
              "    <tr>\n",
              "      <th>3</th>\n",
              "      <td>image10517.jpg</td>\n",
              "      <td>image9836.jpg</td>\n",
              "      <td>3</td>\n",
              "      <td>Food</td>\n",
              "      <td>2.0</td>\n",
              "    </tr>\n",
              "    <tr>\n",
              "      <th>4</th>\n",
              "      <td>image2580.jpg</td>\n",
              "      <td>image8267.jpg</td>\n",
              "      <td>2</td>\n",
              "      <td>Decorationandsignage</td>\n",
              "      <td>1.0</td>\n",
              "    </tr>\n",
              "  </tbody>\n",
              "</table>\n",
              "</div>"
            ],
            "text/plain": [
              "            Image          label  predictions                 Class  Class_code\n",
              "0   image6245.jpg  image8412.jpg            2                  Food         2.0\n",
              "1  image10409.jpg  image3028.jpg            2                  Food         2.0\n",
              "2   image8692.jpg  image7050.jpg            2                  Food         2.0\n",
              "3  image10517.jpg  image9836.jpg            3                  Food         2.0\n",
              "4   image2580.jpg  image8267.jpg            2  Decorationandsignage         1.0"
            ]
          },
          "metadata": {
            "tags": []
          },
          "execution_count": 70
        }
      ]
    },
    {
      "cell_type": "code",
      "metadata": {
        "colab": {
          "base_uri": "https://localhost:8080/",
          "height": 17
        },
        "id": "AQm1zHj7UhTG",
        "outputId": "10b9c84f-a42f-42a6-d926-ee06a0e7c8fe"
      },
      "source": [
        "predicted_df = df_new_test[['Image','Class']]\n",
        "predicted_df = predicted_df.set_index('Image')\n",
        "predicted_df.to_csv('Image Submission.csv')\n",
        "files.download('Image Submission.csv')"
      ],
      "execution_count": null,
      "outputs": [
        {
          "output_type": "display_data",
          "data": {
            "application/javascript": [
              "\n",
              "    async function download(id, filename, size) {\n",
              "      if (!google.colab.kernel.accessAllowed) {\n",
              "        return;\n",
              "      }\n",
              "      const div = document.createElement('div');\n",
              "      const label = document.createElement('label');\n",
              "      label.textContent = `Downloading \"${filename}\": `;\n",
              "      div.appendChild(label);\n",
              "      const progress = document.createElement('progress');\n",
              "      progress.max = size;\n",
              "      div.appendChild(progress);\n",
              "      document.body.appendChild(div);\n",
              "\n",
              "      const buffers = [];\n",
              "      let downloaded = 0;\n",
              "\n",
              "      const channel = await google.colab.kernel.comms.open(id);\n",
              "      // Send a message to notify the kernel that we're ready.\n",
              "      channel.send({})\n",
              "\n",
              "      for await (const message of channel.messages) {\n",
              "        // Send a message to notify the kernel that we're ready.\n",
              "        channel.send({})\n",
              "        if (message.buffers) {\n",
              "          for (const buffer of message.buffers) {\n",
              "            buffers.push(buffer);\n",
              "            downloaded += buffer.byteLength;\n",
              "            progress.value = downloaded;\n",
              "          }\n",
              "        }\n",
              "      }\n",
              "      const blob = new Blob(buffers, {type: 'application/binary'});\n",
              "      const a = document.createElement('a');\n",
              "      a.href = window.URL.createObjectURL(blob);\n",
              "      a.download = filename;\n",
              "      div.appendChild(a);\n",
              "      a.click();\n",
              "      div.remove();\n",
              "    }\n",
              "  "
            ],
            "text/plain": [
              "<IPython.core.display.Javascript object>"
            ]
          },
          "metadata": {
            "tags": []
          }
        },
        {
          "output_type": "display_data",
          "data": {
            "application/javascript": [
              "download(\"download_fc96f018-fabc-4e3b-bff1-0b821d1442b6\", \"Image Submission.csv\", 67137)"
            ],
            "text/plain": [
              "<IPython.core.display.Javascript object>"
            ]
          },
          "metadata": {
            "tags": []
          }
        }
      ]
    }
  ]
}